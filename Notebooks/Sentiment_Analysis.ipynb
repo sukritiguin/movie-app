{
  "cells": [
    {
      "cell_type": "markdown",
      "id": "402b6c70",
      "metadata": {
        "id": "402b6c70"
      },
      "source": [
        "# Movie Review Sentiment Analysis"
      ]
    },
    {
      "cell_type": "markdown",
      "id": "22d302d5",
      "metadata": {
        "id": "22d302d5"
      },
      "source": [
        "### Loading Libraries"
      ]
    },
    {
      "cell_type": "code",
      "execution_count": null,
      "id": "645b0687",
      "metadata": {
        "id": "645b0687"
      },
      "outputs": [],
      "source": [
        "import numpy as np\n",
        "import pandas as pd\n",
        "import matplotlib.pyplot as plt\n",
        "import seaborn as sns\n",
        "import nltk\n",
        "from sklearn.feature_extraction.text import CountVectorizer, TfidfVectorizer\n",
        "from sklearn.preprocessing import LabelBinarizer\n",
        "from nltk.corpus import stopwords\n",
        "from nltk.stem.porter import PorterStemmer\n",
        "from wordcloud import WordCloud,STOPWORDS\n",
        "from nltk.stem import WordNetLemmatizer, LancasterStemmer\n",
        "from nltk.tokenize import word_tokenize,sent_tokenize\n",
        "from bs4 import BeautifulSoup\n",
        "import spacy, re, string, unicodedata\n",
        "from nltk.tokenize import ToktokTokenizer\n",
        "from sklearn.linear_model import LogisticRegression, SGDClassifier\n",
        "from sklearn.naive_bayes import MultinomialNB\n",
        "from sklearn.svm import SVC\n",
        "from textblob import TextBlob, Word\n",
        "from sklearn.metrics import classification_report, confusion_matrix, accuracy_score\n",
        "\n",
        "\n",
        "\n",
        "\n",
        "import os\n",
        "import warnings\n",
        "warnings.filterwarnings('ignore')"
      ]
    },
    {
      "cell_type": "markdown",
      "id": "1cf9e37f",
      "metadata": {
        "id": "1cf9e37f"
      },
      "source": [
        "### Importing Dataset"
      ]
    },
    {
      "cell_type": "code",
      "execution_count": null,
      "id": "9b38bd27",
      "metadata": {
        "id": "9b38bd27",
        "outputId": "f478d31a-16d8-4a50-8cee-0671d2f1c7f5",
        "colab": {
          "base_uri": "https://localhost:8080/",
          "height": 363
        }
      },
      "outputs": [
        {
          "output_type": "error",
          "ename": "FileNotFoundError",
          "evalue": "ignored",
          "traceback": [
            "\u001b[0;31m---------------------------------------------------------------------------\u001b[0m",
            "\u001b[0;31mFileNotFoundError\u001b[0m                         Traceback (most recent call last)",
            "\u001b[0;32m<ipython-input-2-1fbb3aff7a6b>\u001b[0m in \u001b[0;36m<module>\u001b[0;34m\u001b[0m\n\u001b[0;32m----> 1\u001b[0;31m \u001b[0mimdb_data\u001b[0m \u001b[0;34m=\u001b[0m \u001b[0mpd\u001b[0m\u001b[0;34m.\u001b[0m\u001b[0mread_csv\u001b[0m\u001b[0;34m(\u001b[0m\u001b[0;34m\"IMDB Dataset.csv\"\u001b[0m\u001b[0;34m)\u001b[0m\u001b[0;34m\u001b[0m\u001b[0;34m\u001b[0m\u001b[0m\n\u001b[0m\u001b[1;32m      2\u001b[0m \u001b[0mprint\u001b[0m\u001b[0;34m(\u001b[0m\u001b[0mimdb_data\u001b[0m\u001b[0;34m.\u001b[0m\u001b[0mshape\u001b[0m\u001b[0;34m)\u001b[0m\u001b[0;34m\u001b[0m\u001b[0;34m\u001b[0m\u001b[0m\n\u001b[1;32m      3\u001b[0m \u001b[0mimdb_data\u001b[0m\u001b[0;34m.\u001b[0m\u001b[0mhead\u001b[0m\u001b[0;34m(\u001b[0m\u001b[0;34m)\u001b[0m\u001b[0;34m\u001b[0m\u001b[0;34m\u001b[0m\u001b[0m\n",
            "\u001b[0;32m/usr/local/lib/python3.7/dist-packages/pandas/util/_decorators.py\u001b[0m in \u001b[0;36mwrapper\u001b[0;34m(*args, **kwargs)\u001b[0m\n\u001b[1;32m    309\u001b[0m                     \u001b[0mstacklevel\u001b[0m\u001b[0;34m=\u001b[0m\u001b[0mstacklevel\u001b[0m\u001b[0;34m,\u001b[0m\u001b[0;34m\u001b[0m\u001b[0;34m\u001b[0m\u001b[0m\n\u001b[1;32m    310\u001b[0m                 )\n\u001b[0;32m--> 311\u001b[0;31m             \u001b[0;32mreturn\u001b[0m \u001b[0mfunc\u001b[0m\u001b[0;34m(\u001b[0m\u001b[0;34m*\u001b[0m\u001b[0margs\u001b[0m\u001b[0;34m,\u001b[0m \u001b[0;34m**\u001b[0m\u001b[0mkwargs\u001b[0m\u001b[0;34m)\u001b[0m\u001b[0;34m\u001b[0m\u001b[0;34m\u001b[0m\u001b[0m\n\u001b[0m\u001b[1;32m    312\u001b[0m \u001b[0;34m\u001b[0m\u001b[0m\n\u001b[1;32m    313\u001b[0m         \u001b[0;32mreturn\u001b[0m \u001b[0mwrapper\u001b[0m\u001b[0;34m\u001b[0m\u001b[0;34m\u001b[0m\u001b[0m\n",
            "\u001b[0;32m/usr/local/lib/python3.7/dist-packages/pandas/io/parsers/readers.py\u001b[0m in \u001b[0;36mread_csv\u001b[0;34m(filepath_or_buffer, sep, delimiter, header, names, index_col, usecols, squeeze, prefix, mangle_dupe_cols, dtype, engine, converters, true_values, false_values, skipinitialspace, skiprows, skipfooter, nrows, na_values, keep_default_na, na_filter, verbose, skip_blank_lines, parse_dates, infer_datetime_format, keep_date_col, date_parser, dayfirst, cache_dates, iterator, chunksize, compression, thousands, decimal, lineterminator, quotechar, quoting, doublequote, escapechar, comment, encoding, encoding_errors, dialect, error_bad_lines, warn_bad_lines, on_bad_lines, delim_whitespace, low_memory, memory_map, float_precision, storage_options)\u001b[0m\n\u001b[1;32m    584\u001b[0m     \u001b[0mkwds\u001b[0m\u001b[0;34m.\u001b[0m\u001b[0mupdate\u001b[0m\u001b[0;34m(\u001b[0m\u001b[0mkwds_defaults\u001b[0m\u001b[0;34m)\u001b[0m\u001b[0;34m\u001b[0m\u001b[0;34m\u001b[0m\u001b[0m\n\u001b[1;32m    585\u001b[0m \u001b[0;34m\u001b[0m\u001b[0m\n\u001b[0;32m--> 586\u001b[0;31m     \u001b[0;32mreturn\u001b[0m \u001b[0m_read\u001b[0m\u001b[0;34m(\u001b[0m\u001b[0mfilepath_or_buffer\u001b[0m\u001b[0;34m,\u001b[0m \u001b[0mkwds\u001b[0m\u001b[0;34m)\u001b[0m\u001b[0;34m\u001b[0m\u001b[0;34m\u001b[0m\u001b[0m\n\u001b[0m\u001b[1;32m    587\u001b[0m \u001b[0;34m\u001b[0m\u001b[0m\n\u001b[1;32m    588\u001b[0m \u001b[0;34m\u001b[0m\u001b[0m\n",
            "\u001b[0;32m/usr/local/lib/python3.7/dist-packages/pandas/io/parsers/readers.py\u001b[0m in \u001b[0;36m_read\u001b[0;34m(filepath_or_buffer, kwds)\u001b[0m\n\u001b[1;32m    480\u001b[0m \u001b[0;34m\u001b[0m\u001b[0m\n\u001b[1;32m    481\u001b[0m     \u001b[0;31m# Create the parser.\u001b[0m\u001b[0;34m\u001b[0m\u001b[0;34m\u001b[0m\u001b[0;34m\u001b[0m\u001b[0m\n\u001b[0;32m--> 482\u001b[0;31m     \u001b[0mparser\u001b[0m \u001b[0;34m=\u001b[0m \u001b[0mTextFileReader\u001b[0m\u001b[0;34m(\u001b[0m\u001b[0mfilepath_or_buffer\u001b[0m\u001b[0;34m,\u001b[0m \u001b[0;34m**\u001b[0m\u001b[0mkwds\u001b[0m\u001b[0;34m)\u001b[0m\u001b[0;34m\u001b[0m\u001b[0;34m\u001b[0m\u001b[0m\n\u001b[0m\u001b[1;32m    483\u001b[0m \u001b[0;34m\u001b[0m\u001b[0m\n\u001b[1;32m    484\u001b[0m     \u001b[0;32mif\u001b[0m \u001b[0mchunksize\u001b[0m \u001b[0;32mor\u001b[0m \u001b[0miterator\u001b[0m\u001b[0;34m:\u001b[0m\u001b[0;34m\u001b[0m\u001b[0;34m\u001b[0m\u001b[0m\n",
            "\u001b[0;32m/usr/local/lib/python3.7/dist-packages/pandas/io/parsers/readers.py\u001b[0m in \u001b[0;36m__init__\u001b[0;34m(self, f, engine, **kwds)\u001b[0m\n\u001b[1;32m    809\u001b[0m             \u001b[0mself\u001b[0m\u001b[0;34m.\u001b[0m\u001b[0moptions\u001b[0m\u001b[0;34m[\u001b[0m\u001b[0;34m\"has_index_names\"\u001b[0m\u001b[0;34m]\u001b[0m \u001b[0;34m=\u001b[0m \u001b[0mkwds\u001b[0m\u001b[0;34m[\u001b[0m\u001b[0;34m\"has_index_names\"\u001b[0m\u001b[0;34m]\u001b[0m\u001b[0;34m\u001b[0m\u001b[0;34m\u001b[0m\u001b[0m\n\u001b[1;32m    810\u001b[0m \u001b[0;34m\u001b[0m\u001b[0m\n\u001b[0;32m--> 811\u001b[0;31m         \u001b[0mself\u001b[0m\u001b[0;34m.\u001b[0m\u001b[0m_engine\u001b[0m \u001b[0;34m=\u001b[0m \u001b[0mself\u001b[0m\u001b[0;34m.\u001b[0m\u001b[0m_make_engine\u001b[0m\u001b[0;34m(\u001b[0m\u001b[0mself\u001b[0m\u001b[0;34m.\u001b[0m\u001b[0mengine\u001b[0m\u001b[0;34m)\u001b[0m\u001b[0;34m\u001b[0m\u001b[0;34m\u001b[0m\u001b[0m\n\u001b[0m\u001b[1;32m    812\u001b[0m \u001b[0;34m\u001b[0m\u001b[0m\n\u001b[1;32m    813\u001b[0m     \u001b[0;32mdef\u001b[0m \u001b[0mclose\u001b[0m\u001b[0;34m(\u001b[0m\u001b[0mself\u001b[0m\u001b[0;34m)\u001b[0m\u001b[0;34m:\u001b[0m\u001b[0;34m\u001b[0m\u001b[0;34m\u001b[0m\u001b[0m\n",
            "\u001b[0;32m/usr/local/lib/python3.7/dist-packages/pandas/io/parsers/readers.py\u001b[0m in \u001b[0;36m_make_engine\u001b[0;34m(self, engine)\u001b[0m\n\u001b[1;32m   1038\u001b[0m             )\n\u001b[1;32m   1039\u001b[0m         \u001b[0;31m# error: Too many arguments for \"ParserBase\"\u001b[0m\u001b[0;34m\u001b[0m\u001b[0;34m\u001b[0m\u001b[0;34m\u001b[0m\u001b[0m\n\u001b[0;32m-> 1040\u001b[0;31m         \u001b[0;32mreturn\u001b[0m \u001b[0mmapping\u001b[0m\u001b[0;34m[\u001b[0m\u001b[0mengine\u001b[0m\u001b[0;34m]\u001b[0m\u001b[0;34m(\u001b[0m\u001b[0mself\u001b[0m\u001b[0;34m.\u001b[0m\u001b[0mf\u001b[0m\u001b[0;34m,\u001b[0m \u001b[0;34m**\u001b[0m\u001b[0mself\u001b[0m\u001b[0;34m.\u001b[0m\u001b[0moptions\u001b[0m\u001b[0;34m)\u001b[0m  \u001b[0;31m# type: ignore[call-arg]\u001b[0m\u001b[0;34m\u001b[0m\u001b[0;34m\u001b[0m\u001b[0m\n\u001b[0m\u001b[1;32m   1041\u001b[0m \u001b[0;34m\u001b[0m\u001b[0m\n\u001b[1;32m   1042\u001b[0m     \u001b[0;32mdef\u001b[0m \u001b[0m_failover_to_python\u001b[0m\u001b[0;34m(\u001b[0m\u001b[0mself\u001b[0m\u001b[0;34m)\u001b[0m\u001b[0;34m:\u001b[0m\u001b[0;34m\u001b[0m\u001b[0;34m\u001b[0m\u001b[0m\n",
            "\u001b[0;32m/usr/local/lib/python3.7/dist-packages/pandas/io/parsers/c_parser_wrapper.py\u001b[0m in \u001b[0;36m__init__\u001b[0;34m(self, src, **kwds)\u001b[0m\n\u001b[1;32m     49\u001b[0m \u001b[0;34m\u001b[0m\u001b[0m\n\u001b[1;32m     50\u001b[0m         \u001b[0;31m# open handles\u001b[0m\u001b[0;34m\u001b[0m\u001b[0;34m\u001b[0m\u001b[0;34m\u001b[0m\u001b[0m\n\u001b[0;32m---> 51\u001b[0;31m         \u001b[0mself\u001b[0m\u001b[0;34m.\u001b[0m\u001b[0m_open_handles\u001b[0m\u001b[0;34m(\u001b[0m\u001b[0msrc\u001b[0m\u001b[0;34m,\u001b[0m \u001b[0mkwds\u001b[0m\u001b[0;34m)\u001b[0m\u001b[0;34m\u001b[0m\u001b[0;34m\u001b[0m\u001b[0m\n\u001b[0m\u001b[1;32m     52\u001b[0m         \u001b[0;32massert\u001b[0m \u001b[0mself\u001b[0m\u001b[0;34m.\u001b[0m\u001b[0mhandles\u001b[0m \u001b[0;32mis\u001b[0m \u001b[0;32mnot\u001b[0m \u001b[0;32mNone\u001b[0m\u001b[0;34m\u001b[0m\u001b[0;34m\u001b[0m\u001b[0m\n\u001b[1;32m     53\u001b[0m \u001b[0;34m\u001b[0m\u001b[0m\n",
            "\u001b[0;32m/usr/local/lib/python3.7/dist-packages/pandas/io/parsers/base_parser.py\u001b[0m in \u001b[0;36m_open_handles\u001b[0;34m(self, src, kwds)\u001b[0m\n\u001b[1;32m    227\u001b[0m             \u001b[0mmemory_map\u001b[0m\u001b[0;34m=\u001b[0m\u001b[0mkwds\u001b[0m\u001b[0;34m.\u001b[0m\u001b[0mget\u001b[0m\u001b[0;34m(\u001b[0m\u001b[0;34m\"memory_map\"\u001b[0m\u001b[0;34m,\u001b[0m \u001b[0;32mFalse\u001b[0m\u001b[0;34m)\u001b[0m\u001b[0;34m,\u001b[0m\u001b[0;34m\u001b[0m\u001b[0;34m\u001b[0m\u001b[0m\n\u001b[1;32m    228\u001b[0m             \u001b[0mstorage_options\u001b[0m\u001b[0;34m=\u001b[0m\u001b[0mkwds\u001b[0m\u001b[0;34m.\u001b[0m\u001b[0mget\u001b[0m\u001b[0;34m(\u001b[0m\u001b[0;34m\"storage_options\"\u001b[0m\u001b[0;34m,\u001b[0m \u001b[0;32mNone\u001b[0m\u001b[0;34m)\u001b[0m\u001b[0;34m,\u001b[0m\u001b[0;34m\u001b[0m\u001b[0;34m\u001b[0m\u001b[0m\n\u001b[0;32m--> 229\u001b[0;31m             \u001b[0merrors\u001b[0m\u001b[0;34m=\u001b[0m\u001b[0mkwds\u001b[0m\u001b[0;34m.\u001b[0m\u001b[0mget\u001b[0m\u001b[0;34m(\u001b[0m\u001b[0;34m\"encoding_errors\"\u001b[0m\u001b[0;34m,\u001b[0m \u001b[0;34m\"strict\"\u001b[0m\u001b[0;34m)\u001b[0m\u001b[0;34m,\u001b[0m\u001b[0;34m\u001b[0m\u001b[0;34m\u001b[0m\u001b[0m\n\u001b[0m\u001b[1;32m    230\u001b[0m         )\n\u001b[1;32m    231\u001b[0m \u001b[0;34m\u001b[0m\u001b[0m\n",
            "\u001b[0;32m/usr/local/lib/python3.7/dist-packages/pandas/io/common.py\u001b[0m in \u001b[0;36mget_handle\u001b[0;34m(path_or_buf, mode, encoding, compression, memory_map, is_text, errors, storage_options)\u001b[0m\n\u001b[1;32m    705\u001b[0m                 \u001b[0mencoding\u001b[0m\u001b[0;34m=\u001b[0m\u001b[0mioargs\u001b[0m\u001b[0;34m.\u001b[0m\u001b[0mencoding\u001b[0m\u001b[0;34m,\u001b[0m\u001b[0;34m\u001b[0m\u001b[0;34m\u001b[0m\u001b[0m\n\u001b[1;32m    706\u001b[0m                 \u001b[0merrors\u001b[0m\u001b[0;34m=\u001b[0m\u001b[0merrors\u001b[0m\u001b[0;34m,\u001b[0m\u001b[0;34m\u001b[0m\u001b[0;34m\u001b[0m\u001b[0m\n\u001b[0;32m--> 707\u001b[0;31m                 \u001b[0mnewline\u001b[0m\u001b[0;34m=\u001b[0m\u001b[0;34m\"\"\u001b[0m\u001b[0;34m,\u001b[0m\u001b[0;34m\u001b[0m\u001b[0;34m\u001b[0m\u001b[0m\n\u001b[0m\u001b[1;32m    708\u001b[0m             )\n\u001b[1;32m    709\u001b[0m         \u001b[0;32melse\u001b[0m\u001b[0;34m:\u001b[0m\u001b[0;34m\u001b[0m\u001b[0;34m\u001b[0m\u001b[0m\n",
            "\u001b[0;31mFileNotFoundError\u001b[0m: [Errno 2] No such file or directory: 'IMDB Dataset.csv'"
          ]
        }
      ],
      "source": [
        "imdb_data = pd.read_csv(\"IMDB Dataset.csv\")\n",
        "print(imdb_data.shape)\n",
        "imdb_data.head()"
      ]
    },
    {
      "cell_type": "markdown",
      "id": "a20b0367",
      "metadata": {
        "id": "a20b0367"
      },
      "source": [
        "### EDA"
      ]
    },
    {
      "cell_type": "code",
      "execution_count": null,
      "id": "1d311bd5",
      "metadata": {
        "id": "1d311bd5"
      },
      "outputs": [],
      "source": [
        "imdb_data.describe()"
      ]
    },
    {
      "cell_type": "code",
      "execution_count": null,
      "id": "f86c5710",
      "metadata": {
        "id": "f86c5710"
      },
      "outputs": [],
      "source": [
        "imdb_data['sentiment'].value_counts()"
      ]
    },
    {
      "cell_type": "markdown",
      "id": "75793ffc",
      "metadata": {
        "id": "75793ffc"
      },
      "source": [
        "### Split Traing and Testing Data"
      ]
    },
    {
      "cell_type": "code",
      "execution_count": null,
      "id": "250af7c7",
      "metadata": {
        "id": "250af7c7"
      },
      "outputs": [],
      "source": [
        "train_review = imdb_data.review[:45000]\n",
        "train_sentiment = imdb_data.sentiment[:45000]\n",
        "\n",
        "test_review = imdb_data.review[45000:]\n",
        "test_sentiment = imdb_data.sentiment[45000:]\n",
        "\n",
        "print(train_review.shape,train_sentiment.shape,test_review.shape,test_sentiment.shape)"
      ]
    },
    {
      "cell_type": "markdown",
      "id": "70d4053b",
      "metadata": {
        "id": "70d4053b"
      },
      "source": [
        "### Text Normalization"
      ]
    },
    {
      "cell_type": "code",
      "execution_count": null,
      "id": "b341175c",
      "metadata": {
        "id": "b341175c"
      },
      "outputs": [],
      "source": [
        "tokenizer = ToktokTokenizer()\n",
        "stopwords_list = nltk.corpus.stopwords.words('english')\n",
        "print(stopwords_list)"
      ]
    },
    {
      "cell_type": "markdown",
      "id": "cdf4324a",
      "metadata": {
        "id": "cdf4324a"
      },
      "source": [
        "### Remove HTML and Noise"
      ]
    },
    {
      "cell_type": "markdown",
      "id": "5ab533b8",
      "metadata": {
        "id": "5ab533b8"
      },
      "source": [
        ">> #### Loking from scratch"
      ]
    },
    {
      "cell_type": "code",
      "execution_count": null,
      "id": "e170d20b",
      "metadata": {
        "id": "e170d20b"
      },
      "outputs": [],
      "source": [
        "doc = BeautifulSoup(imdb_data['review'][14],'html.parser')\n",
        "doc = doc.get_text()\n",
        "print(doc)"
      ]
    },
    {
      "cell_type": "code",
      "execution_count": null,
      "id": "34ef9cf5",
      "metadata": {
        "id": "34ef9cf5"
      },
      "outputs": [],
      "source": [
        "re.sub('\\[[^]]*\\]', '', doc+\"[a]\") #removing the square"
      ]
    },
    {
      "cell_type": "code",
      "execution_count": null,
      "id": "cf40d799",
      "metadata": {
        "id": "cf40d799"
      },
      "outputs": [],
      "source": [
        "def remove_html_and_noise(doc):\n",
        "    doc = BeautifulSoup(doc,'html.parser')\n",
        "    doc = doc.get_text()\n",
        "    doc = re.sub('\\[[^]]*\\]', '', doc+\"[a]\") #removing the square\n",
        "    return doc"
      ]
    },
    {
      "cell_type": "code",
      "execution_count": null,
      "id": "ac258cbd",
      "metadata": {
        "id": "ac258cbd"
      },
      "outputs": [],
      "source": [
        "imdb_data['review'] = imdb_data['review'].apply(remove_html_and_noise)"
      ]
    },
    {
      "cell_type": "markdown",
      "id": "a43435b0",
      "metadata": {
        "id": "a43435b0"
      },
      "source": [
        "### Removing Special Character"
      ]
    },
    {
      "cell_type": "code",
      "execution_count": null,
      "id": "7719ef97",
      "metadata": {
        "id": "7719ef97"
      },
      "outputs": [],
      "source": [
        "def removing_special_character(doc): #without space as special character\n",
        "    doc = re.sub(r\"[^A-Za-z0-9\\s]\",'',doc)\n",
        "    return doc"
      ]
    },
    {
      "cell_type": "code",
      "execution_count": null,
      "id": "52daad41",
      "metadata": {
        "id": "52daad41"
      },
      "outputs": [],
      "source": [
        "imdb_data['review'] = imdb_data['review'].apply(removing_special_character)"
      ]
    },
    {
      "cell_type": "markdown",
      "id": "19191fd9",
      "metadata": {
        "id": "19191fd9"
      },
      "source": [
        "### Text Stemming"
      ]
    },
    {
      "cell_type": "code",
      "execution_count": null,
      "id": "0d58fddb",
      "metadata": {
        "id": "0d58fddb"
      },
      "outputs": [],
      "source": [
        "def simple_potter_stemmer(doc):\n",
        "    ps = PorterStemmer()\n",
        "    return ' '.join([ps.stem(word) for word in doc.split()])"
      ]
    },
    {
      "cell_type": "code",
      "execution_count": null,
      "id": "ba134c33",
      "metadata": {
        "id": "ba134c33"
      },
      "outputs": [],
      "source": [
        "imdb_data['review'] = imdb_data['review'].apply(simple_potter_stemmer)"
      ]
    },
    {
      "cell_type": "markdown",
      "id": "ac138d63",
      "metadata": {
        "id": "ac138d63"
      },
      "source": [
        "### Removing Stop Words"
      ]
    },
    {
      "cell_type": "code",
      "execution_count": null,
      "id": "f3630ff1",
      "metadata": {
        "id": "f3630ff1"
      },
      "outputs": [],
      "source": [
        "def removing_stop_words(doc):\n",
        "    stop_words = set(stopwords.words('english'))\n",
        "    stop_words_list = list(stop_words)\n",
        "    tokens = tokenizer.tokenize(doc)\n",
        "\n",
        "    tokens = [token.strip() for token in tokens] #token.strip is rem=moving extra space\n",
        "\n",
        "    tokens = [token for token in tokens if token not in stop_words_list]\n",
        "\n",
        "    return ' '.join(tokens)"
      ]
    },
    {
      "cell_type": "code",
      "execution_count": null,
      "id": "ebf5b308",
      "metadata": {
        "id": "ebf5b308"
      },
      "outputs": [],
      "source": [
        "imdb_data['review'] = imdb_data['review'].apply(removing_stop_words)"
      ]
    },
    {
      "cell_type": "markdown",
      "id": "bb181799",
      "metadata": {
        "id": "bb181799"
      },
      "source": [
        "### Normalized train and test dataset"
      ]
    },
    {
      "cell_type": "code",
      "execution_count": null,
      "id": "7de4540f",
      "metadata": {
        "id": "7de4540f"
      },
      "outputs": [],
      "source": [
        "normalized_train_review = imdb_data['review'][:45000]\n",
        "normalized_test_review = imdb_data['review'][45000:]"
      ]
    },
    {
      "cell_type": "code",
      "execution_count": null,
      "id": "66ee527d",
      "metadata": {
        "id": "66ee527d"
      },
      "outputs": [],
      "source": [
        "train_sentiment_labels = imdb_data['sentiment'][:45000]\n",
        "test_sentiment_labels = imdb_data['sentiment'][45000:]"
      ]
    },
    {
      "cell_type": "code",
      "execution_count": null,
      "id": "27b568d3",
      "metadata": {
        "id": "27b568d3"
      },
      "outputs": [],
      "source": []
    },
    {
      "cell_type": "markdown",
      "id": "35f397fa",
      "metadata": {
        "id": "35f397fa"
      },
      "source": [
        "<h1 style=\"color:green\">Text to Vector Transformation</h1>"
      ]
    },
    {
      "cell_type": "markdown",
      "id": "77cd62c1",
      "metadata": {
        "id": "77cd62c1"
      },
      "source": [
        "### `Bag of Words Model`"
      ]
    },
    {
      "cell_type": "code",
      "execution_count": null,
      "id": "883c7c49",
      "metadata": {
        "scrolled": true,
        "id": "883c7c49"
      },
      "outputs": [],
      "source": [
        "cv = CountVectorizer(min_df=0, max_df=1,binary=False,ngram_range=(1,3))\n",
        "cv_train_review = cv.fit_transform(normalized_train_review)\n",
        "cv_test_review = cv.transform(normalized_test_review)\n",
        "\n",
        "print(\"Train Shape : \", cv_train_review.shape,\"\\nTest Shape : \",cv_test_review.shape)"
      ]
    },
    {
      "cell_type": "code",
      "execution_count": null,
      "id": "9a32a096",
      "metadata": {
        "id": "9a32a096"
      },
      "outputs": [],
      "source": [
        "len(list(cv.vocabulary_))"
      ]
    },
    {
      "cell_type": "code",
      "execution_count": null,
      "id": "914c719f",
      "metadata": {
        "id": "914c719f"
      },
      "outputs": [],
      "source": [
        "pickle.dump(cv,open(\"cv.pkl\",\"wb\"))"
      ]
    },
    {
      "cell_type": "code",
      "execution_count": null,
      "id": "78e19d46",
      "metadata": {
        "id": "78e19d46"
      },
      "outputs": [],
      "source": [
        "temp = cv.fit_transform([normalized_train_review[0]])"
      ]
    },
    {
      "cell_type": "code",
      "execution_count": null,
      "id": "20937f6f",
      "metadata": {
        "id": "20937f6f"
      },
      "outputs": [],
      "source": [
        "temp.shape"
      ]
    },
    {
      "cell_type": "code",
      "execution_count": null,
      "id": "780649e0",
      "metadata": {
        "id": "780649e0"
      },
      "outputs": [],
      "source": [
        "temp.toarray()"
      ]
    },
    {
      "cell_type": "markdown",
      "id": "06914d75",
      "metadata": {
        "id": "06914d75"
      },
      "source": [
        "### `Term Frequency and Inverse Document Frequency Model`"
      ]
    },
    {
      "cell_type": "code",
      "execution_count": null,
      "id": "61efe0ff",
      "metadata": {
        "id": "61efe0ff"
      },
      "outputs": [],
      "source": [
        "tv = TfidfVectorizer(min_df=0, max_df=1, use_idf=True, ngram_range=(1,3))\n",
        "\n",
        "tv_train_review = tv.fit_transform(normalized_train_review)\n",
        "tv_test_review = tv.transform(normalized_test_review)\n",
        "\n",
        "print(\"Train Shape : \", tv_train_review.shape,\"\\nTest Shape : \",tv_test_review.shape)"
      ]
    },
    {
      "cell_type": "markdown",
      "id": "a262cbbd",
      "metadata": {
        "id": "a262cbbd"
      },
      "source": [
        "### `Labelling the sentiment texts`"
      ]
    },
    {
      "cell_type": "code",
      "execution_count": null,
      "id": "19026ac8",
      "metadata": {
        "id": "19026ac8"
      },
      "outputs": [],
      "source": [
        "lb = LabelBinarizer()\n",
        "sentiment_label = lb.fit_transform(imdb_data['sentiment'])\n",
        "\n",
        "print(\"Sentiment Label Shape :\",sentiment_label.shape)"
      ]
    },
    {
      "cell_type": "markdown",
      "id": "65e36fc8",
      "metadata": {
        "id": "65e36fc8"
      },
      "source": [
        "### `Split the sentiment labels`"
      ]
    },
    {
      "cell_type": "code",
      "execution_count": null,
      "id": "5bb35f08",
      "metadata": {
        "id": "5bb35f08"
      },
      "outputs": [],
      "source": [
        "train_sentiment_labels = sentiment_label[:45000]\n",
        "test_sentiment_labels = sentiment_label[45000:]"
      ]
    },
    {
      "cell_type": "markdown",
      "id": "9b772083",
      "metadata": {
        "id": "9b772083"
      },
      "source": [
        "<h1 style=\"color:green\">Logistic Regression</h1>"
      ]
    },
    {
      "cell_type": "markdown",
      "id": "f4eb047a",
      "metadata": {
        "id": "f4eb047a"
      },
      "source": [
        "### `Logistic Regression` in `BOW` and `Tfidf`"
      ]
    },
    {
      "cell_type": "code",
      "execution_count": null,
      "id": "8b6459e9",
      "metadata": {
        "id": "8b6459e9"
      },
      "outputs": [],
      "source": [
        "lr = LogisticRegression(max_iter=500, random_state=42)\n",
        "\n",
        "#Fitting for Bag of Words\n",
        "lr_bow = lr.fit(cv_train_review,train_sentiment)\n",
        "#Fitting for Tfidf\n",
        "lr_tfidf = lr.fit(tv_train_review,train_sentiment)\n",
        "\n",
        "print(lr_bow)\n",
        "print(lr_tfidf)"
      ]
    },
    {
      "cell_type": "markdown",
      "id": "e16ddf22",
      "metadata": {
        "id": "e16ddf22"
      },
      "source": [
        "### `Logistic Regression` in `BOW` and `Tfidf` - `Prediction`"
      ]
    },
    {
      "cell_type": "code",
      "execution_count": null,
      "id": "ff6a6def",
      "metadata": {
        "id": "ff6a6def"
      },
      "outputs": [],
      "source": [
        "accuracy_score(test_sentiment,lr_bow.predict(cv_test_review))"
      ]
    },
    {
      "cell_type": "code",
      "execution_count": null,
      "id": "998f478d",
      "metadata": {
        "id": "998f478d"
      },
      "outputs": [],
      "source": [
        "accuracy_score(test_sentiment,lr_tfidf.predict(cv_test_review))"
      ]
    },
    {
      "cell_type": "code",
      "execution_count": null,
      "id": "755802a0",
      "metadata": {
        "id": "755802a0"
      },
      "outputs": [],
      "source": [
        "cv_test_review.shape"
      ]
    },
    {
      "cell_type": "code",
      "execution_count": null,
      "id": "667ac598",
      "metadata": {
        "id": "667ac598"
      },
      "outputs": [],
      "source": [
        "import pickle\n",
        "pickle.dump(lr_bow,open(\"lr_bow.pkl\",\"wb\"))"
      ]
    },
    {
      "cell_type": "code",
      "execution_count": null,
      "id": "00e26a8c",
      "metadata": {
        "id": "00e26a8c"
      },
      "outputs": [],
      "source": [
        "lr_bow_predict = lr.predict(cv_test_review)\n",
        "lr_tfidf_predict = lr.predict(tv_test_review)"
      ]
    },
    {
      "cell_type": "markdown",
      "id": "ab965f7a",
      "metadata": {
        "id": "ab965f7a"
      },
      "source": [
        "### `Logistic Regression` in `BOW` and `Tfidf` - `Accuracy Score`"
      ]
    },
    {
      "cell_type": "code",
      "execution_count": null,
      "id": "3817ee63",
      "metadata": {
        "id": "3817ee63"
      },
      "outputs": [],
      "source": [
        "lr_bow_score = accuracy_score(test_sentiment,lr_bow_predict)\n",
        "lr_tfidf_score = accuracy_score(test_sentiment,lr_tfidf_predict)\n",
        "\n",
        "print(\"BOW Accuracy : \", lr_bow_score, \"\\nTfidf Accuracy : \", lr_tfidf_score)"
      ]
    },
    {
      "cell_type": "markdown",
      "id": "55f0497b",
      "metadata": {
        "id": "55f0497b"
      },
      "source": [
        "### `Classification Report`"
      ]
    },
    {
      "cell_type": "code",
      "execution_count": null,
      "id": "9135cf79",
      "metadata": {
        "id": "9135cf79"
      },
      "outputs": [],
      "source": [
        "lr_bow_report = classification_report(test_sentiment, lr_bow_predict, target_names=['Positive', 'Negative'])\n",
        "lr_tfidf_report = classification_report(test_sentiment, lr_tfidf_predict, target_names=['Positive', 'Negative'])\n",
        "\n",
        "print(\"BOW Report : \\n\", lr_bow_report,\"\\nTfidf Report : \\n\", lr_tfidf_report)"
      ]
    },
    {
      "cell_type": "markdown",
      "id": "01e4a705",
      "metadata": {
        "id": "01e4a705"
      },
      "source": [
        "### `Confusion Matrix`"
      ]
    },
    {
      "cell_type": "code",
      "execution_count": null,
      "id": "af1e7123",
      "metadata": {
        "scrolled": true,
        "id": "af1e7123"
      },
      "outputs": [],
      "source": [
        "lr_bow_counfusion_matrix = confusion_matrix(test_sentiment,lr_bow_predict,labels=['positive','negative'])\n",
        "lr_tfidf_counfusion_matrix = confusion_matrix(test_sentiment, lr_tfidf_predict, labels=['positive','negative'])\n",
        "\n",
        "print(\"BOW :\\n\", lr_bow_counfusion_matrix,\"\\nTfidf : \\n\", lr_tfidf_counfusion_matrix)"
      ]
    },
    {
      "cell_type": "markdown",
      "id": "ecb2c0d6",
      "metadata": {
        "id": "ecb2c0d6"
      },
      "source": [
        "<h1 style=\"color:green\">Multinomial Naive Bayes</h1>"
      ]
    },
    {
      "cell_type": "code",
      "execution_count": null,
      "id": "f88bbe55",
      "metadata": {
        "id": "f88bbe55"
      },
      "outputs": [],
      "source": [
        "#training the model\n",
        "mnb=MultinomialNB()\n",
        "#fitting the svm for bag of words\n",
        "mnb_bow=mnb.fit(cv_train_review,train_sentiment)\n",
        "print(mnb_bow)\n",
        "#fitting the svm for tfidf features\n",
        "mnb_tfidf=mnb.fit(tv_train_review,train_sentiment)\n",
        "print(mnb_tfidf)\n",
        "\n",
        "#Predicting the model for bag of words\n",
        "mnb_bow_predict=mnb.predict(cv_test_review)\n",
        "# print(mnb_bow_predict)\n",
        "#Predicting the model for tfidf features\n",
        "mnb_tfidf_predict=mnb.predict(tv_test_review)\n",
        "# print(mnb_tfidf_predict)\n",
        "\n",
        "#Accuracy score for bag of words\n",
        "mnb_bow_score=accuracy_score(test_sentiment,mnb_bow_predict)\n",
        "print(\"mnb_bow_score :\",mnb_bow_score)\n",
        "#Accuracy score for tfidf features\n",
        "mnb_tfidf_score=accuracy_score(test_sentiment,mnb_tfidf_predict)\n",
        "print(\"mnb_tfidf_score :\",mnb_tfidf_score)"
      ]
    },
    {
      "cell_type": "code",
      "execution_count": null,
      "id": "0099af0e",
      "metadata": {
        "id": "0099af0e"
      },
      "outputs": [],
      "source": []
    },
    {
      "cell_type": "code",
      "execution_count": null,
      "id": "4cee7bfe",
      "metadata": {
        "id": "4cee7bfe"
      },
      "outputs": [],
      "source": []
    },
    {
      "cell_type": "markdown",
      "id": "74414d75",
      "metadata": {
        "id": "74414d75"
      },
      "source": [
        "<div>\n",
        "    <h1 style=\"color:green\">BERT : <span style=\"color:blue\">Bidirectional Encoder Representations from Transformers</span></h1>\n",
        "</div>"
      ]
    },
    {
      "cell_type": "code",
      "execution_count": null,
      "id": "7dcf5850",
      "metadata": {
        "scrolled": true,
        "id": "7dcf5850"
      },
      "outputs": [],
      "source": [
        "import tensorflow as tf\n",
        "import tensorflow_hub as hub\n",
        "import tensorflow_text as text\n",
        "import pandas as pd"
      ]
    },
    {
      "cell_type": "code",
      "execution_count": null,
      "id": "62fb1d91",
      "metadata": {
        "id": "62fb1d91"
      },
      "outputs": [],
      "source": [
        "df = pd.read_csv(\"IMDB Dataset.csv\")"
      ]
    },
    {
      "cell_type": "code",
      "execution_count": null,
      "id": "67f362d6",
      "metadata": {
        "id": "67f362d6"
      },
      "outputs": [],
      "source": [
        "df.head()"
      ]
    },
    {
      "cell_type": "code",
      "execution_count": null,
      "id": "e18845a0",
      "metadata": {
        "id": "e18845a0"
      },
      "outputs": [],
      "source": [
        "df['positive'] = df['sentiment'].apply(lambda x: 1 if x=='positive' else 0)"
      ]
    },
    {
      "cell_type": "code",
      "execution_count": null,
      "id": "bb6d365d",
      "metadata": {
        "id": "bb6d365d"
      },
      "outputs": [],
      "source": [
        "df.head()"
      ]
    },
    {
      "cell_type": "code",
      "execution_count": null,
      "id": "a219bd3b",
      "metadata": {
        "id": "a219bd3b"
      },
      "outputs": [],
      "source": [
        "df.positive.value_counts()"
      ]
    },
    {
      "cell_type": "code",
      "execution_count": null,
      "id": "cbe1caae",
      "metadata": {
        "id": "cbe1caae"
      },
      "outputs": [],
      "source": [
        "from sklearn.model_selection import train_test_split\n",
        "\n",
        "X_train, X_test, y_train, y_test = train_test_split(df['review'],df['positive'],test_size=0.1)"
      ]
    },
    {
      "cell_type": "code",
      "execution_count": null,
      "id": "b7c18e38",
      "metadata": {
        "id": "b7c18e38"
      },
      "outputs": [],
      "source": [
        "X_train.shape, X_test.shape, y_train.shape, y_test.shape"
      ]
    },
    {
      "cell_type": "code",
      "execution_count": null,
      "id": "dac84f0a",
      "metadata": {
        "id": "dac84f0a"
      },
      "outputs": [],
      "source": [
        "normalized_test_review.shape,normalized_train_review.shape,test_sentiment.shape,train_sentiment.shape"
      ]
    },
    {
      "cell_type": "code",
      "execution_count": null,
      "id": "919a5776",
      "metadata": {
        "id": "919a5776"
      },
      "outputs": [],
      "source": [
        "y_train"
      ]
    },
    {
      "cell_type": "code",
      "execution_count": null,
      "id": "a51befd2",
      "metadata": {
        "id": "a51befd2"
      },
      "outputs": [],
      "source": [
        "imdb_data['sentiment'] = imdb_data['sentiment'].apply(lambda x: 1 if x=='positive' else 0)"
      ]
    },
    {
      "cell_type": "code",
      "execution_count": null,
      "id": "4f7f4eab",
      "metadata": {
        "id": "4f7f4eab"
      },
      "outputs": [],
      "source": [
        "sentiment_train = imdb_data['sentiment'][:25000]\n",
        "sentiment_test = imdb_data['sentiment'][25000:]"
      ]
    },
    {
      "cell_type": "code",
      "execution_count": null,
      "id": "b72498f8",
      "metadata": {
        "id": "b72498f8"
      },
      "outputs": [],
      "source": [
        "imdb_data"
      ]
    },
    {
      "cell_type": "code",
      "execution_count": null,
      "id": "4a9e0e91",
      "metadata": {
        "id": "4a9e0e91"
      },
      "outputs": [],
      "source": []
    },
    {
      "cell_type": "code",
      "execution_count": null,
      "id": "89e0281c",
      "metadata": {
        "id": "89e0281c"
      },
      "outputs": [],
      "source": [
        "bert_preprocess = hub.KerasLayer(\"https://tfhub.dev/tensorflow/bert_en_uncased_preprocess/3\")\n",
        "bert_encoder = hub.KerasLayer(\"https://tfhub.dev/tensorflow/bert_en_uncased_L-12_H-768_A-12/4\")"
      ]
    },
    {
      "cell_type": "code",
      "execution_count": null,
      "id": "a44b5bba",
      "metadata": {
        "id": "a44b5bba"
      },
      "outputs": [],
      "source": [
        "def get_sentence_embeding(sentences):\n",
        "    preprocessed_text = bert_preprocess(sentences)\n",
        "    return bert_encoder(preprocessed_text)['pooled_output']"
      ]
    },
    {
      "cell_type": "code",
      "execution_count": null,
      "id": "743fbf3f",
      "metadata": {
        "id": "743fbf3f"
      },
      "outputs": [],
      "source": [
        "# Bert layers\n",
        "text_input = tf.keras.layers.Input(shape=(), dtype=tf.string, name='text')\n",
        "preprocessed_text = bert_preprocess(text_input)\n",
        "outputs = bert_encoder(preprocessed_text)\n",
        "\n",
        "# Neural network layers\n",
        "l = tf.keras.layers.Dropout(0.1, name=\"dropout\")(outputs['pooled_output'])\n",
        "l = tf.keras.layers.Dense(1, activation='sigmoid', name=\"output\")(l)\n",
        "\n",
        "# Use inputs and outputs to construct a final model\n",
        "model = tf.keras.Model(inputs=[text_input], outputs = [l])"
      ]
    },
    {
      "cell_type": "code",
      "execution_count": null,
      "id": "87251dac",
      "metadata": {
        "id": "87251dac"
      },
      "outputs": [],
      "source": [
        "METRICS = [\n",
        "      tf.keras.metrics.BinaryAccuracy(name='accuracy'),\n",
        "      tf.keras.metrics.Precision(name='precision'),\n",
        "      tf.keras.metrics.Recall(name='recall')\n",
        "]\n",
        "\n",
        "model.compile(optimizer='adam',\n",
        "              loss='binary_crossentropy',\n",
        "              metrics=METRICS)"
      ]
    },
    {
      "cell_type": "code",
      "execution_count": null,
      "id": "9d702397",
      "metadata": {
        "scrolled": true,
        "id": "9d702397"
      },
      "outputs": [],
      "source": [
        "model.fit(normalized_train_review, sentiment_train, epochs=10)"
      ]
    },
    {
      "cell_type": "code",
      "execution_count": null,
      "id": "ae498901",
      "metadata": {
        "id": "ae498901"
      },
      "outputs": [],
      "source": [
        "import pickle"
      ]
    },
    {
      "cell_type": "code",
      "execution_count": null,
      "id": "c1561e20",
      "metadata": {
        "id": "c1561e20"
      },
      "outputs": [],
      "source": [
        "pickle.dump(model,open(\"model1.pkl\",\"wb\"))"
      ]
    },
    {
      "cell_type": "code",
      "execution_count": null,
      "id": "4072e5ba",
      "metadata": {
        "id": "4072e5ba"
      },
      "outputs": [],
      "source": []
    }
  ],
  "metadata": {
    "kernelspec": {
      "display_name": "Python 3 (ipykernel)",
      "language": "python",
      "name": "python3"
    },
    "language_info": {
      "codemirror_mode": {
        "name": "ipython",
        "version": 3
      },
      "file_extension": ".py",
      "mimetype": "text/x-python",
      "name": "python",
      "nbconvert_exporter": "python",
      "pygments_lexer": "ipython3",
      "version": "3.10.5"
    },
    "colab": {
      "provenance": []
    }
  },
  "nbformat": 4,
  "nbformat_minor": 5
}