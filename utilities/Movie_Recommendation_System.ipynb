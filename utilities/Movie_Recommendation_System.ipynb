{
  "cells": [
    {
      "cell_type": "markdown",
      "metadata": {
        "id": "g_ymvxWnYfH3"
      },
      "source": [
        "> # Import Dependencies\n",
        "\n"
      ]
    },
    {
      "cell_type": "code",
      "execution_count": null,
      "metadata": {
        "id": "ntItyN9BBIyV"
      },
      "outputs": [],
      "source": [
        "import numpy as np\n",
        "import pandas as pd\n",
        "import re, requests\n",
        "from IPython.display import clear_output\n",
        "from bs4 import BeautifulSoup\n",
        "import ast\n",
        "from sklearn.feature_extraction.text import TfidfVectorizer, CountVectorizer # represent string in form of numbet\n",
        "from sklearn.metrics.pairwise import linear_kernel, cosine_similarity # similarity between two things\n",
        "import string,time\n",
        "from nltk.corpus import stopwords\n",
        "import nltk"
      ]
    },
    {
      "cell_type": "markdown",
      "metadata": {
        "id": "8LBH9WfBYxzY"
      },
      "source": [
        "> # Read Files"
      ]
    },
    {
      "cell_type": "code",
      "execution_count": null,
      "metadata": {
        "colab": {
          "base_uri": "https://localhost:8080/"
        },
        "id": "7uAqL2EtD6_U",
        "outputId": "927f768d-9dee-4df6-97ff-e4677b60820f"
      },
      "outputs": [
        {
          "output_type": "stream",
          "name": "stdout",
          "text": [
            "Mounted at /content/drive\n"
          ]
        }
      ],
      "source": [
        "from google.colab import drive\n",
        "drive.mount('/content/drive')"
      ]
    },
    {
      "cell_type": "code",
      "execution_count": null,
      "metadata": {
        "colab": {
          "base_uri": "https://localhost:8080/"
        },
        "id": "uUHkl_aXD9EZ",
        "outputId": "a0ed07e9-f5eb-4dcb-d917-7db6ecabf588"
      },
      "outputs": [
        {
          "output_type": "stream",
          "name": "stderr",
          "text": [
            "/usr/local/lib/python3.7/dist-packages/IPython/core/interactiveshell.py:3326: DtypeWarning: Columns (10) have mixed types.Specify dtype option on import or set low_memory=False.\n",
            "  exec(code_obj, self.user_global_ns, self.user_ns)\n"
          ]
        }
      ],
      "source": [
        "credits=pd.read_csv(\"/content/drive/MyDrive/m/credits.csv\")\n",
        "keywords=pd.read_csv(\"/content/drive/MyDrive/m/keywords.csv\")\n",
        "links=pd.read_csv(\"/content/drive/MyDrive/m/links.csv\")\n",
        "links_small=pd.read_csv(\"/content/drive/MyDrive/m/links_small.csv\")\n",
        "movies_metadata=pd.read_csv(\"/content/drive/MyDrive/m/movies_metadata.csv\")\n"
      ]
    },
    {
      "cell_type": "markdown",
      "metadata": {
        "id": "ipUxWhKGY1wD"
      },
      "source": [
        "> # Preprocessing"
      ]
    },
    {
      "cell_type": "markdown",
      "metadata": {
        "id": "2_IVnAMjYMc3"
      },
      "source": [
        ">> ## First step : Basics Preprocessing"
      ]
    },
    {
      "cell_type": "code",
      "execution_count": null,
      "metadata": {
        "colab": {
          "base_uri": "https://localhost:8080/"
        },
        "id": "Sgrm40BVFJmg",
        "outputId": "8b9ae9a1-c320-43ab-acd8-a1c5630d1d95"
      },
      "outputs": [
        {
          "output_type": "stream",
          "name": "stdout",
          "text": [
            "Movies_meta_data shape :  (45466, 24)\n",
            "Creadits shape :  (45476, 3)\n",
            "Movies metadata columns :  Index(['adult', 'belongs_to_collection', 'budget', 'genres', 'homepage', 'id',\n",
            "       'imdb_id', 'original_language', 'original_title', 'overview',\n",
            "       'popularity', 'poster_path', 'production_companies',\n",
            "       'production_countries', 'release_date', 'revenue', 'runtime',\n",
            "       'spoken_languages', 'status', 'tagline', 'title', 'video',\n",
            "       'vote_average', 'vote_count'],\n",
            "      dtype='object')\n",
            "Credits scolumns :  Index(['cast', 'crew', 'id'], dtype='object')\n"
          ]
        }
      ],
      "source": [
        "print(\"Movies_meta_data shape : \", movies_metadata.shape)\n",
        "print(\"Creadits shape : \", credits.shape)\n",
        "print(\"Movies metadata columns : \", movies_metadata.columns)\n",
        "print(\"Credits scolumns : \", credits.columns)"
      ]
    },
    {
      "cell_type": "code",
      "execution_count": null,
      "metadata": {
        "id": "rJyKIeLJYYUl"
      },
      "outputs": [],
      "source": [
        "# df = movies_metadata.merge(credits,on=\"id\")"
      ]
    },
    {
      "cell_type": "code",
      "execution_count": null,
      "metadata": {
        "colab": {
          "base_uri": "https://localhost:8080/"
        },
        "id": "uGsK5pl6qepj",
        "outputId": "571468bb-bc00-43ea-cb7e-1acd102d722b"
      },
      "outputs": [
        {
          "output_type": "execute_result",
          "data": {
            "text/plain": [
              "adult                     object\n",
              "belongs_to_collection     object\n",
              "budget                    object\n",
              "genres                    object\n",
              "homepage                  object\n",
              "id                        object\n",
              "imdb_id                   object\n",
              "original_language         object\n",
              "original_title            object\n",
              "overview                  object\n",
              "popularity                object\n",
              "poster_path               object\n",
              "production_companies      object\n",
              "production_countries      object\n",
              "release_date              object\n",
              "revenue                  float64\n",
              "runtime                  float64\n",
              "spoken_languages          object\n",
              "status                    object\n",
              "tagline                   object\n",
              "title                     object\n",
              "video                     object\n",
              "vote_average             float64\n",
              "vote_count               float64\n",
              "dtype: object"
            ]
          },
          "metadata": {},
          "execution_count": 6
        }
      ],
      "source": [
        "movies_metadata.dtypes"
      ]
    },
    {
      "cell_type": "code",
      "execution_count": null,
      "metadata": {
        "colab": {
          "base_uri": "https://localhost:8080/"
        },
        "id": "OnSdKfaQqeeb",
        "outputId": "405d2119-5098-41cd-ee54-50f850525a8b"
      },
      "outputs": [
        {
          "output_type": "execute_result",
          "data": {
            "text/plain": [
              "cast    object\n",
              "crew    object\n",
              "id       int64\n",
              "dtype: object"
            ]
          },
          "metadata": {},
          "execution_count": 7
        }
      ],
      "source": [
        "credits.dtypes"
      ]
    },
    {
      "cell_type": "code",
      "execution_count": null,
      "metadata": {
        "id": "sLDwqXn8rCI1"
      },
      "outputs": [],
      "source": [
        "movies_metadata['id'] = pd.to_numeric(movies_metadata[\"id\"],errors=\"coerce\")"
      ]
    },
    {
      "cell_type": "code",
      "execution_count": null,
      "metadata": {
        "colab": {
          "base_uri": "https://localhost:8080/"
        },
        "id": "EAHJGe68JOLc",
        "outputId": "5268b6bb-ab1b-44d1-f967-450a9b38dc69"
      },
      "outputs": [
        {
          "output_type": "execute_result",
          "data": {
            "text/plain": [
              "adult                        0\n",
              "belongs_to_collection    40972\n",
              "budget                       0\n",
              "genres                       0\n",
              "homepage                 37684\n",
              "id                           3\n",
              "imdb_id                     17\n",
              "original_language           11\n",
              "original_title               0\n",
              "overview                   954\n",
              "popularity                   5\n",
              "poster_path                386\n",
              "production_companies         3\n",
              "production_countries         3\n",
              "release_date                87\n",
              "revenue                      6\n",
              "runtime                    263\n",
              "spoken_languages             6\n",
              "status                      87\n",
              "tagline                  25054\n",
              "title                        6\n",
              "video                        6\n",
              "vote_average                 6\n",
              "vote_count                   6\n",
              "dtype: int64"
            ]
          },
          "metadata": {},
          "execution_count": 9
        }
      ],
      "source": [
        "movies_metadata.isnull().sum()"
      ]
    },
    {
      "cell_type": "code",
      "execution_count": null,
      "metadata": {
        "id": "HqOErpeDJOHj"
      },
      "outputs": [],
      "source": [
        "movies_metadata.dropna(subset=[\"id\"],inplace=True)"
      ]
    },
    {
      "cell_type": "code",
      "execution_count": null,
      "metadata": {
        "colab": {
          "base_uri": "https://localhost:8080/"
        },
        "id": "Kg1jDTg5JOGz",
        "outputId": "d13d2731-8508-4801-97ef-d7316b401a41"
      },
      "outputs": [
        {
          "output_type": "execute_result",
          "data": {
            "text/plain": [
              "adult                        0\n",
              "belongs_to_collection    40972\n",
              "budget                       0\n",
              "genres                       0\n",
              "homepage                 37684\n",
              "id                           0\n",
              "imdb_id                     17\n",
              "original_language           11\n",
              "original_title               0\n",
              "overview                   954\n",
              "popularity                   3\n",
              "poster_path                386\n",
              "production_companies         3\n",
              "production_countries         3\n",
              "release_date                87\n",
              "revenue                      3\n",
              "runtime                    260\n",
              "spoken_languages             3\n",
              "status                      84\n",
              "tagline                  25051\n",
              "title                        3\n",
              "video                        3\n",
              "vote_average                 3\n",
              "vote_count                   3\n",
              "dtype: int64"
            ]
          },
          "metadata": {},
          "execution_count": 11
        }
      ],
      "source": [
        "movies_metadata.isnull().sum()"
      ]
    },
    {
      "cell_type": "code",
      "execution_count": null,
      "metadata": {
        "id": "mZvBBnIrYCOq"
      },
      "outputs": [],
      "source": [
        "movies_metadata[\"id\"] = movies_metadata[\"id\"].astype(int, errors='ignore')"
      ]
    },
    {
      "cell_type": "code",
      "execution_count": null,
      "metadata": {
        "colab": {
          "base_uri": "https://localhost:8080/"
        },
        "id": "gobseqiFr2CF",
        "outputId": "e0848f47-c297-469f-d177-d127da959913"
      },
      "outputs": [
        {
          "output_type": "execute_result",
          "data": {
            "text/plain": [
              "0           862\n",
              "1          8844\n",
              "2         15602\n",
              "3         31357\n",
              "4         11862\n",
              "          ...  \n",
              "45461    439050\n",
              "45462    111109\n",
              "45463     67758\n",
              "45464    227506\n",
              "45465    461257\n",
              "Name: id, Length: 45463, dtype: int64"
            ]
          },
          "metadata": {},
          "execution_count": 13
        }
      ],
      "source": [
        "movies_metadata['id']"
      ]
    },
    {
      "cell_type": "code",
      "execution_count": null,
      "metadata": {
        "id": "m9yykPIUGTe7"
      },
      "outputs": [],
      "source": [
        "df = movies_metadata.merge(credits,on=\"id\")"
      ]
    },
    {
      "cell_type": "code",
      "execution_count": null,
      "metadata": {
        "colab": {
          "base_uri": "https://localhost:8080/"
        },
        "id": "Cv6qihLzIKWJ",
        "outputId": "5b5f2e61-9199-4f40-c2ee-66f562cc8b90"
      },
      "outputs": [
        {
          "output_type": "execute_result",
          "data": {
            "text/plain": [
              "(45538, 26)"
            ]
          },
          "metadata": {},
          "execution_count": 15
        }
      ],
      "source": [
        "df.shape"
      ]
    },
    {
      "cell_type": "code",
      "execution_count": null,
      "metadata": {
        "colab": {
          "base_uri": "https://localhost:8080/"
        },
        "id": "7RwsP1Vor9Ax",
        "outputId": "0cf4b4e0-7e6f-470c-880e-4fa5e48b0c30"
      },
      "outputs": [
        {
          "output_type": "execute_result",
          "data": {
            "text/plain": [
              "Index(['adult', 'belongs_to_collection', 'budget', 'genres', 'homepage', 'id',\n",
              "       'imdb_id', 'original_language', 'original_title', 'overview',\n",
              "       'popularity', 'poster_path', 'production_companies',\n",
              "       'production_countries', 'release_date', 'revenue', 'runtime',\n",
              "       'spoken_languages', 'status', 'tagline', 'title', 'video',\n",
              "       'vote_average', 'vote_count', 'cast', 'crew'],\n",
              "      dtype='object')"
            ]
          },
          "metadata": {},
          "execution_count": 16
        }
      ],
      "source": [
        "df.columns"
      ]
    },
    {
      "cell_type": "markdown",
      "metadata": {
        "id": "4CIxgk0iqJQp"
      },
      "source": [
        ">>>>> **Applying Special Case :** Taking Only Some movies (Testing with : 35000)"
      ]
    },
    {
      "cell_type": "code",
      "execution_count": null,
      "metadata": {
        "colab": {
          "base_uri": "https://localhost:8080/",
          "height": 300
        },
        "id": "yVDpTcAjqI-m",
        "outputId": "460b0832-36ed-4a27-df4b-8985e710775c"
      },
      "outputs": [
        {
          "output_type": "execute_result",
          "data": {
            "text/plain": [
              "                  id       revenue       runtime  vote_average    vote_count\n",
              "count   45538.000000  4.553500e+04  45278.000000  45535.000000  45535.000000\n",
              "mean   108316.948527  1.119860e+07     94.128517      5.618232    109.791128\n",
              "std    112403.610181  6.428227e+07     38.396184      1.924203    490.920864\n",
              "min         2.000000  0.000000e+00      0.000000      0.000000      0.000000\n",
              "25%     26411.500000  0.000000e+00     85.000000      5.000000      3.000000\n",
              "50%     60012.500000  0.000000e+00     95.000000      6.000000     10.000000\n",
              "75%    157170.750000  0.000000e+00    107.000000      6.800000     34.000000\n",
              "max    469172.000000  2.787965e+09   1256.000000     10.000000  14075.000000"
            ],
            "text/html": [
              "\n",
              "  <div id=\"df-c4ce9778-e128-4be2-a642-091983b2218f\">\n",
              "    <div class=\"colab-df-container\">\n",
              "      <div>\n",
              "<style scoped>\n",
              "    .dataframe tbody tr th:only-of-type {\n",
              "        vertical-align: middle;\n",
              "    }\n",
              "\n",
              "    .dataframe tbody tr th {\n",
              "        vertical-align: top;\n",
              "    }\n",
              "\n",
              "    .dataframe thead th {\n",
              "        text-align: right;\n",
              "    }\n",
              "</style>\n",
              "<table border=\"1\" class=\"dataframe\">\n",
              "  <thead>\n",
              "    <tr style=\"text-align: right;\">\n",
              "      <th></th>\n",
              "      <th>id</th>\n",
              "      <th>revenue</th>\n",
              "      <th>runtime</th>\n",
              "      <th>vote_average</th>\n",
              "      <th>vote_count</th>\n",
              "    </tr>\n",
              "  </thead>\n",
              "  <tbody>\n",
              "    <tr>\n",
              "      <th>count</th>\n",
              "      <td>45538.000000</td>\n",
              "      <td>4.553500e+04</td>\n",
              "      <td>45278.000000</td>\n",
              "      <td>45535.000000</td>\n",
              "      <td>45535.000000</td>\n",
              "    </tr>\n",
              "    <tr>\n",
              "      <th>mean</th>\n",
              "      <td>108316.948527</td>\n",
              "      <td>1.119860e+07</td>\n",
              "      <td>94.128517</td>\n",
              "      <td>5.618232</td>\n",
              "      <td>109.791128</td>\n",
              "    </tr>\n",
              "    <tr>\n",
              "      <th>std</th>\n",
              "      <td>112403.610181</td>\n",
              "      <td>6.428227e+07</td>\n",
              "      <td>38.396184</td>\n",
              "      <td>1.924203</td>\n",
              "      <td>490.920864</td>\n",
              "    </tr>\n",
              "    <tr>\n",
              "      <th>min</th>\n",
              "      <td>2.000000</td>\n",
              "      <td>0.000000e+00</td>\n",
              "      <td>0.000000</td>\n",
              "      <td>0.000000</td>\n",
              "      <td>0.000000</td>\n",
              "    </tr>\n",
              "    <tr>\n",
              "      <th>25%</th>\n",
              "      <td>26411.500000</td>\n",
              "      <td>0.000000e+00</td>\n",
              "      <td>85.000000</td>\n",
              "      <td>5.000000</td>\n",
              "      <td>3.000000</td>\n",
              "    </tr>\n",
              "    <tr>\n",
              "      <th>50%</th>\n",
              "      <td>60012.500000</td>\n",
              "      <td>0.000000e+00</td>\n",
              "      <td>95.000000</td>\n",
              "      <td>6.000000</td>\n",
              "      <td>10.000000</td>\n",
              "    </tr>\n",
              "    <tr>\n",
              "      <th>75%</th>\n",
              "      <td>157170.750000</td>\n",
              "      <td>0.000000e+00</td>\n",
              "      <td>107.000000</td>\n",
              "      <td>6.800000</td>\n",
              "      <td>34.000000</td>\n",
              "    </tr>\n",
              "    <tr>\n",
              "      <th>max</th>\n",
              "      <td>469172.000000</td>\n",
              "      <td>2.787965e+09</td>\n",
              "      <td>1256.000000</td>\n",
              "      <td>10.000000</td>\n",
              "      <td>14075.000000</td>\n",
              "    </tr>\n",
              "  </tbody>\n",
              "</table>\n",
              "</div>\n",
              "      <button class=\"colab-df-convert\" onclick=\"convertToInteractive('df-c4ce9778-e128-4be2-a642-091983b2218f')\"\n",
              "              title=\"Convert this dataframe to an interactive table.\"\n",
              "              style=\"display:none;\">\n",
              "        \n",
              "  <svg xmlns=\"http://www.w3.org/2000/svg\" height=\"24px\"viewBox=\"0 0 24 24\"\n",
              "       width=\"24px\">\n",
              "    <path d=\"M0 0h24v24H0V0z\" fill=\"none\"/>\n",
              "    <path d=\"M18.56 5.44l.94 2.06.94-2.06 2.06-.94-2.06-.94-.94-2.06-.94 2.06-2.06.94zm-11 1L8.5 8.5l.94-2.06 2.06-.94-2.06-.94L8.5 2.5l-.94 2.06-2.06.94zm10 10l.94 2.06.94-2.06 2.06-.94-2.06-.94-.94-2.06-.94 2.06-2.06.94z\"/><path d=\"M17.41 7.96l-1.37-1.37c-.4-.4-.92-.59-1.43-.59-.52 0-1.04.2-1.43.59L10.3 9.45l-7.72 7.72c-.78.78-.78 2.05 0 2.83L4 21.41c.39.39.9.59 1.41.59.51 0 1.02-.2 1.41-.59l7.78-7.78 2.81-2.81c.8-.78.8-2.07 0-2.86zM5.41 20L4 18.59l7.72-7.72 1.47 1.35L5.41 20z\"/>\n",
              "  </svg>\n",
              "      </button>\n",
              "      \n",
              "  <style>\n",
              "    .colab-df-container {\n",
              "      display:flex;\n",
              "      flex-wrap:wrap;\n",
              "      gap: 12px;\n",
              "    }\n",
              "\n",
              "    .colab-df-convert {\n",
              "      background-color: #E8F0FE;\n",
              "      border: none;\n",
              "      border-radius: 50%;\n",
              "      cursor: pointer;\n",
              "      display: none;\n",
              "      fill: #1967D2;\n",
              "      height: 32px;\n",
              "      padding: 0 0 0 0;\n",
              "      width: 32px;\n",
              "    }\n",
              "\n",
              "    .colab-df-convert:hover {\n",
              "      background-color: #E2EBFA;\n",
              "      box-shadow: 0px 1px 2px rgba(60, 64, 67, 0.3), 0px 1px 3px 1px rgba(60, 64, 67, 0.15);\n",
              "      fill: #174EA6;\n",
              "    }\n",
              "\n",
              "    [theme=dark] .colab-df-convert {\n",
              "      background-color: #3B4455;\n",
              "      fill: #D2E3FC;\n",
              "    }\n",
              "\n",
              "    [theme=dark] .colab-df-convert:hover {\n",
              "      background-color: #434B5C;\n",
              "      box-shadow: 0px 1px 3px 1px rgba(0, 0, 0, 0.15);\n",
              "      filter: drop-shadow(0px 1px 2px rgba(0, 0, 0, 0.3));\n",
              "      fill: #FFFFFF;\n",
              "    }\n",
              "  </style>\n",
              "\n",
              "      <script>\n",
              "        const buttonEl =\n",
              "          document.querySelector('#df-c4ce9778-e128-4be2-a642-091983b2218f button.colab-df-convert');\n",
              "        buttonEl.style.display =\n",
              "          google.colab.kernel.accessAllowed ? 'block' : 'none';\n",
              "\n",
              "        async function convertToInteractive(key) {\n",
              "          const element = document.querySelector('#df-c4ce9778-e128-4be2-a642-091983b2218f');\n",
              "          const dataTable =\n",
              "            await google.colab.kernel.invokeFunction('convertToInteractive',\n",
              "                                                     [key], {});\n",
              "          if (!dataTable) return;\n",
              "\n",
              "          const docLinkHtml = 'Like what you see? Visit the ' +\n",
              "            '<a target=\"_blank\" href=https://colab.research.google.com/notebooks/data_table.ipynb>data table notebook</a>'\n",
              "            + ' to learn more about interactive tables.';\n",
              "          element.innerHTML = '';\n",
              "          dataTable['output_type'] = 'display_data';\n",
              "          await google.colab.output.renderOutput(dataTable, element);\n",
              "          const docLink = document.createElement('div');\n",
              "          docLink.innerHTML = docLinkHtml;\n",
              "          element.appendChild(docLink);\n",
              "        }\n",
              "      </script>\n",
              "    </div>\n",
              "  </div>\n",
              "  "
            ]
          },
          "metadata": {},
          "execution_count": 17
        }
      ],
      "source": [
        "df.describe()"
      ]
    },
    {
      "cell_type": "code",
      "execution_count": null,
      "metadata": {
        "colab": {
          "base_uri": "https://localhost:8080/"
        },
        "id": "5Mzzmp-GqqPV",
        "outputId": "e09b4034-6b77-46b8-fbd9-b48be3ccae98"
      },
      "outputs": [
        {
          "output_type": "execute_result",
          "data": {
            "text/plain": [
              "9.12696123123169"
            ]
          },
          "metadata": {},
          "execution_count": 18
        }
      ],
      "source": [
        "35000*35000*8/1024/1024/1024"
      ]
    },
    {
      "cell_type": "code",
      "execution_count": null,
      "metadata": {
        "colab": {
          "base_uri": "https://localhost:8080/"
        },
        "id": "2eyG3E01qqMu",
        "outputId": "e570278d-b18d-488e-92da-5f275146fc46"
      },
      "outputs": [
        {
          "output_type": "execute_result",
          "data": {
            "text/plain": [
              "(38107, 26)"
            ]
          },
          "metadata": {},
          "execution_count": 19
        }
      ],
      "source": [
        "df[df['revenue']==0.0].shape # not meaningful"
      ]
    },
    {
      "cell_type": "code",
      "execution_count": null,
      "metadata": {
        "colab": {
          "base_uri": "https://localhost:8080/"
        },
        "id": "trQZwMbyqqLp",
        "outputId": "70b6a2d0-1166-4319-bb22-69604f1439fd"
      },
      "outputs": [
        {
          "output_type": "execute_result",
          "data": {
            "text/plain": [
              "(3004, 26)"
            ]
          },
          "metadata": {},
          "execution_count": 20
        }
      ],
      "source": [
        "df[df['vote_average']==0.0].shape"
      ]
    },
    {
      "cell_type": "code",
      "execution_count": null,
      "metadata": {
        "colab": {
          "base_uri": "https://localhost:8080/"
        },
        "id": "c3prO55tqqI0",
        "outputId": "30dbdd7d-7a21-468b-e3b4-1a02dbb78b2b"
      },
      "outputs": [
        {
          "output_type": "execute_result",
          "data": {
            "text/plain": [
              "(2905, 26)"
            ]
          },
          "metadata": {},
          "execution_count": 21
        }
      ],
      "source": [
        "df[df['vote_count']==0.0].shape"
      ]
    },
    {
      "cell_type": "code",
      "execution_count": null,
      "metadata": {
        "id": "vOcVbpUFqqHd"
      },
      "outputs": [],
      "source": [
        "df = df[df['vote_count']>0.0]"
      ]
    },
    {
      "cell_type": "code",
      "execution_count": null,
      "metadata": {
        "colab": {
          "base_uri": "https://localhost:8080/"
        },
        "id": "yXxRLWgoW8Xz",
        "outputId": "93ca8d5a-ef4d-4c4b-bc51-743bad0ef89e"
      },
      "outputs": [
        {
          "output_type": "execute_result",
          "data": {
            "text/plain": [
              "(42630, 26)"
            ]
          },
          "metadata": {},
          "execution_count": 23
        }
      ],
      "source": [
        "df.shape"
      ]
    },
    {
      "cell_type": "code",
      "execution_count": null,
      "metadata": {
        "id": "uQP5L_1gW8K2"
      },
      "outputs": [],
      "source": [
        "df = df[df['vote_average']>0.0]"
      ]
    },
    {
      "cell_type": "code",
      "execution_count": null,
      "metadata": {
        "id": "Fv6PtmjdXk5U"
      },
      "outputs": [],
      "source": [
        "# df.isnull().sum()"
      ]
    },
    {
      "cell_type": "code",
      "execution_count": null,
      "metadata": {
        "id": "YWRPf65aXk0s"
      },
      "outputs": [],
      "source": [
        "df = df.reset_index()"
      ]
    },
    {
      "cell_type": "code",
      "execution_count": null,
      "metadata": {
        "colab": {
          "base_uri": "https://localhost:8080/"
        },
        "id": "1HP_wEDBXkzi",
        "outputId": "89f1dc84-913a-479b-defd-41e98726ae5e"
      },
      "outputs": [
        {
          "output_type": "execute_result",
          "data": {
            "text/plain": [
              "Index(['index', 'adult', 'belongs_to_collection', 'budget', 'genres',\n",
              "       'homepage', 'id', 'imdb_id', 'original_language', 'original_title',\n",
              "       'overview', 'popularity', 'poster_path', 'production_companies',\n",
              "       'production_countries', 'release_date', 'revenue', 'runtime',\n",
              "       'spoken_languages', 'status', 'tagline', 'title', 'video',\n",
              "       'vote_average', 'vote_count', 'cast', 'crew'],\n",
              "      dtype='object')"
            ]
          },
          "metadata": {},
          "execution_count": 27
        }
      ],
      "source": [
        "df.columns"
      ]
    },
    {
      "cell_type": "code",
      "execution_count": null,
      "metadata": {
        "colab": {
          "base_uri": "https://localhost:8080/"
        },
        "id": "zdiDhry3Xy_D",
        "outputId": "a7141e84-d7e7-402f-e5d4-5562c0184a6c"
      },
      "outputs": [
        {
          "output_type": "execute_result",
          "data": {
            "text/plain": [
              "(21943, 27)"
            ]
          },
          "metadata": {},
          "execution_count": 28
        }
      ],
      "source": [
        "df[df['runtime']>=95].shape"
      ]
    },
    {
      "cell_type": "code",
      "execution_count": null,
      "metadata": {
        "id": "v9ex-pa9Xyj7"
      },
      "outputs": [],
      "source": [
        "df = df[df['runtime']>=95]"
      ]
    },
    {
      "cell_type": "code",
      "execution_count": null,
      "metadata": {
        "id": "9LB2GdsPXyTM"
      },
      "outputs": [],
      "source": [
        "df = df.reset_index()"
      ]
    },
    {
      "cell_type": "code",
      "execution_count": null,
      "metadata": {
        "id": "VgTyzSNvXySD"
      },
      "outputs": [],
      "source": []
    },
    {
      "cell_type": "code",
      "execution_count": null,
      "metadata": {
        "id": "OTTQzOJMXyHO"
      },
      "outputs": [],
      "source": []
    },
    {
      "cell_type": "code",
      "execution_count": null,
      "metadata": {
        "id": "mmYwfFIkXkwd"
      },
      "outputs": [],
      "source": []
    },
    {
      "cell_type": "code",
      "execution_count": null,
      "metadata": {
        "id": "7jaiWR_BXkvL"
      },
      "outputs": [],
      "source": []
    },
    {
      "cell_type": "code",
      "execution_count": null,
      "metadata": {
        "id": "8Bcd5FnaW8Jv"
      },
      "outputs": [],
      "source": []
    },
    {
      "cell_type": "markdown",
      "metadata": {
        "id": "861x0UZBqrGP"
      },
      "source": [
        ">>>> **Ending Above Part**"
      ]
    },
    {
      "cell_type": "code",
      "execution_count": null,
      "metadata": {
        "id": "VMvQQ-KBsE65"
      },
      "outputs": [],
      "source": [
        "df = df[['genres', 'id','imdb_id','overview','poster_path','tagline', 'title','cast', 'crew']]"
      ]
    },
    {
      "cell_type": "code",
      "execution_count": null,
      "metadata": {
        "colab": {
          "base_uri": "https://localhost:8080/"
        },
        "id": "YY2JWmOdsg0c",
        "outputId": "9423852a-a372-449f-c107-4677bbf059ff"
      },
      "outputs": [
        {
          "output_type": "execute_result",
          "data": {
            "text/plain": [
              "(21943, 9)"
            ]
          },
          "metadata": {},
          "execution_count": 32
        }
      ],
      "source": [
        "df.shape"
      ]
    },
    {
      "cell_type": "code",
      "execution_count": null,
      "metadata": {
        "colab": {
          "base_uri": "https://localhost:8080/"
        },
        "id": "SMpPA6KLskqM",
        "outputId": "eba72f79-1919-4271-a8c3-736e399be197"
      },
      "outputs": [
        {
          "output_type": "execute_result",
          "data": {
            "text/plain": [
              "genres             0\n",
              "id                 0\n",
              "imdb_id            4\n",
              "overview         143\n",
              "poster_path       24\n",
              "tagline        10780\n",
              "title              0\n",
              "cast               0\n",
              "crew               0\n",
              "dtype: int64"
            ]
          },
          "metadata": {},
          "execution_count": 33
        }
      ],
      "source": [
        "df.isnull().sum()"
      ]
    },
    {
      "cell_type": "code",
      "execution_count": null,
      "metadata": {
        "colab": {
          "base_uri": "https://localhost:8080/"
        },
        "id": "jeT5q7MAsmUk",
        "outputId": "8234410d-1cea-4db7-e025-ef10ffbd5f20"
      },
      "outputs": [
        {
          "output_type": "execute_result",
          "data": {
            "text/plain": [
              "Index(['genres', 'id', 'imdb_id', 'overview', 'poster_path', 'tagline',\n",
              "       'title', 'cast', 'crew'],\n",
              "      dtype='object')"
            ]
          },
          "metadata": {},
          "execution_count": 34
        }
      ],
      "source": [
        "df.columns"
      ]
    },
    {
      "cell_type": "code",
      "execution_count": null,
      "metadata": {
        "colab": {
          "base_uri": "https://localhost:8080/"
        },
        "id": "fARbccx-sxrj",
        "outputId": "7f6ba0dd-b1ac-4e8e-e75b-1093280351f3"
      },
      "outputs": [
        {
          "output_type": "execute_result",
          "data": {
            "text/plain": [
              "3.941357135772705"
            ]
          },
          "metadata": {},
          "execution_count": 35
        }
      ],
      "source": [
        "(23000*23000*8)/1024/1024/1024"
      ]
    },
    {
      "cell_type": "code",
      "execution_count": null,
      "metadata": {
        "id": "Re220LSms_Np"
      },
      "outputs": [],
      "source": [
        "df = df[['genres', 'id', 'imdb_id', 'overview', 'poster_path','title', 'cast', 'crew']]"
      ]
    },
    {
      "cell_type": "code",
      "execution_count": null,
      "metadata": {
        "colab": {
          "base_uri": "https://localhost:8080/"
        },
        "id": "XgVgz1KQti2D",
        "outputId": "d5a2c34f-048c-4f27-84ab-9a3d3c5a7ec9"
      },
      "outputs": [
        {
          "output_type": "execute_result",
          "data": {
            "text/plain": [
              "genres           0\n",
              "id               0\n",
              "imdb_id          4\n",
              "overview       143\n",
              "poster_path     24\n",
              "title            0\n",
              "cast             0\n",
              "crew             0\n",
              "dtype: int64"
            ]
          },
          "metadata": {},
          "execution_count": 37
        }
      ],
      "source": [
        "df.isnull().sum()"
      ]
    },
    {
      "cell_type": "code",
      "execution_count": null,
      "metadata": {
        "colab": {
          "base_uri": "https://localhost:8080/"
        },
        "id": "EFcwUVQNtnbG",
        "outputId": "e44da52a-6b56-48bb-deed-33f223f5fc82"
      },
      "outputs": [
        {
          "output_type": "execute_result",
          "data": {
            "text/plain": [
              "(21943, 8)"
            ]
          },
          "metadata": {},
          "execution_count": 38
        }
      ],
      "source": [
        "df.shape"
      ]
    },
    {
      "cell_type": "markdown",
      "metadata": {
        "id": "aeopAWcat1_u"
      },
      "source": [
        ">> ## Filling IMDB_id null values"
      ]
    },
    {
      "cell_type": "code",
      "execution_count": null,
      "metadata": {
        "id": "tRtar40ytrX1"
      },
      "outputs": [],
      "source": [
        "df = df.reset_index()\n",
        "df['imdb_id'] = df['imdb_id'].fillna(\"be-coll-finding\")"
      ]
    },
    {
      "cell_type": "code",
      "execution_count": null,
      "metadata": {
        "id": "RhwDCnp0ugFs"
      },
      "outputs": [],
      "source": [
        "null_values_index = df.index[df['imdb_id'] == \"be-coll-finding\"].tolist()"
      ]
    },
    {
      "cell_type": "code",
      "execution_count": null,
      "metadata": {
        "colab": {
          "base_uri": "https://localhost:8080/"
        },
        "id": "WQ3RN-XQu19m",
        "outputId": "d8bf3896-0859-4d4c-c6f0-a4807af28994"
      },
      "outputs": [
        {
          "output_type": "execute_result",
          "data": {
            "text/plain": [
              "[5970, 10808, 11744, 13632]"
            ]
          },
          "metadata": {},
          "execution_count": 41
        }
      ],
      "source": [
        "null_values_index"
      ]
    },
    {
      "cell_type": "code",
      "execution_count": null,
      "metadata": {
        "id": "43qRHszLvyfX"
      },
      "outputs": [],
      "source": [
        "# df.iloc[37034]"
      ]
    },
    {
      "cell_type": "code",
      "execution_count": null,
      "metadata": {
        "colab": {
          "base_uri": "https://localhost:8080/"
        },
        "id": "2kg1iN18vG4B",
        "outputId": "a01363dc-0a3f-446e-b1d4-c48aeaeb15f9"
      },
      "outputs": [
        {
          "output_type": "stream",
          "name": "stdout",
          "text": [
            "200\n"
          ]
        }
      ],
      "source": [
        "api_key = \"3222076ed226933d3e1302ce9f3b73dc\"\n",
        "movie_id = df.iloc[9001].id\n",
        "url = f\"https://api.themoviedb.org/3/movie/{movie_id}?api_key={api_key}&language=en-US\"\n",
        "response = requests.get(url)\n",
        "print(response.status_code)\n",
        "doc = response.json()"
      ]
    },
    {
      "cell_type": "code",
      "execution_count": null,
      "metadata": {
        "colab": {
          "base_uri": "https://localhost:8080/",
          "height": 36
        },
        "id": "KZt4W2-XwHln",
        "outputId": "4c371cbb-7f17-4b35-a6b9-174e77b55d4d"
      },
      "outputs": [
        {
          "output_type": "execute_result",
          "data": {
            "text/plain": [
              "'tt0103626'"
            ],
            "application/vnd.google.colaboratory.intrinsic+json": {
              "type": "string"
            }
          },
          "metadata": {},
          "execution_count": 44
        }
      ],
      "source": [
        "doc['imdb_id']"
      ]
    },
    {
      "cell_type": "code",
      "execution_count": null,
      "metadata": {
        "id": "IzDz6tX9wI2R"
      },
      "outputs": [],
      "source": [
        "found_null_values = []\n",
        "\n",
        "for index in null_values_index:\n",
        "    api_key = \"3222076ed226933d3e1302ce9f3b73dc\"\n",
        "    movie_id = df.iloc[index].id\n",
        "    url = f\"https://api.themoviedb.org/3/movie/{movie_id}?api_key={api_key}&language=en-US\"\n",
        "    response = requests.get(url)\n",
        "    # print(response.status_code)\n",
        "    if response.status_code == 200:\n",
        "        doc = response.json()\n",
        "        if doc['imdb_id'] == \"\":\n",
        "            found_null_values.append(None)\n",
        "        else:\n",
        "            found_null_values.append(doc['imdb_id'])\n",
        "    else: # unsuccess status code / unable to fetch\n",
        "        found_null_values.append(None)"
      ]
    },
    {
      "cell_type": "code",
      "execution_count": null,
      "metadata": {
        "colab": {
          "base_uri": "https://localhost:8080/"
        },
        "id": "go3l1oeAxXtU",
        "outputId": "d571b7a3-fead-4e3d-93d2-51976a28ccba"
      },
      "outputs": [
        {
          "output_type": "execute_result",
          "data": {
            "text/plain": [
              "['tt0101704', None, None, None]"
            ]
          },
          "metadata": {},
          "execution_count": 46
        }
      ],
      "source": [
        "found_null_values"
      ]
    },
    {
      "cell_type": "code",
      "execution_count": null,
      "metadata": {
        "id": "QD3wbz70xZ78"
      },
      "outputs": [],
      "source": [
        "df.loc[df.imdb_id==\"be-coll-finding\", 'imdb_id'] = found_null_values"
      ]
    },
    {
      "cell_type": "code",
      "execution_count": null,
      "metadata": {
        "colab": {
          "base_uri": "https://localhost:8080/"
        },
        "id": "nWIjSf7HzdYt",
        "outputId": "f95118cf-f98a-4bf1-8d9c-03bbc9b76eb5"
      },
      "outputs": [
        {
          "output_type": "execute_result",
          "data": {
            "text/plain": [
              "index            0\n",
              "genres           0\n",
              "id               0\n",
              "imdb_id          3\n",
              "overview       143\n",
              "poster_path     24\n",
              "title            0\n",
              "cast             0\n",
              "crew             0\n",
              "dtype: int64"
            ]
          },
          "metadata": {},
          "execution_count": 48
        }
      ],
      "source": [
        "df.isnull().sum()"
      ]
    },
    {
      "cell_type": "code",
      "execution_count": null,
      "metadata": {
        "id": "puYcBxpLzo54"
      },
      "outputs": [],
      "source": [
        "df.dropna(subset=[\"imdb_id\"],inplace=True)"
      ]
    },
    {
      "cell_type": "code",
      "execution_count": null,
      "metadata": {
        "colab": {
          "base_uri": "https://localhost:8080/"
        },
        "id": "m2M2yQJrz5I6",
        "outputId": "554f5cf5-5b9b-432f-9f7a-577c5558d542"
      },
      "outputs": [
        {
          "output_type": "execute_result",
          "data": {
            "text/plain": [
              "index            0\n",
              "genres           0\n",
              "id               0\n",
              "imdb_id          0\n",
              "overview       143\n",
              "poster_path     23\n",
              "title            0\n",
              "cast             0\n",
              "crew             0\n",
              "dtype: int64"
            ]
          },
          "metadata": {},
          "execution_count": 50
        }
      ],
      "source": [
        "df.isnull().sum()"
      ]
    },
    {
      "cell_type": "markdown",
      "metadata": {
        "id": "K92fulvK0izS"
      },
      "source": [
        ">> ## Filling overview null values"
      ]
    },
    {
      "cell_type": "code",
      "execution_count": null,
      "metadata": {
        "colab": {
          "base_uri": "https://localhost:8080/"
        },
        "id": "WJ024Z6x0BZG",
        "outputId": "ac4ae8fe-35c8-49d7-d568-b1418734f69a"
      },
      "outputs": [
        {
          "output_type": "stream",
          "name": "stdout",
          "text": [
            "143\n"
          ]
        }
      ],
      "source": [
        "from IPython.display import clear_output\n",
        "df = df.reset_index()\n",
        "df['overview'] = df['overview'].fillna(\"be-coll-finding\")\n",
        "null_values_index = df.index[df['overview'] == \"be-coll-finding\"].tolist()\n",
        "\n",
        "found_null_values = []\n",
        "count = 1\n",
        "\n",
        "for index in null_values_index:\n",
        "    print(count)\n",
        "    count += 1\n",
        "    api_key = \"3222076ed226933d3e1302ce9f3b73dc\"\n",
        "    movie_id = df.iloc[index].id\n",
        "    url = f\"https://api.themoviedb.org/3/movie/{movie_id}?api_key={api_key}&language=en-US\"\n",
        "    response = requests.get(url)\n",
        "    # print(response.status_code)\n",
        "    if response.status_code == 200:\n",
        "        doc = response.json()\n",
        "        if doc['overview'] == \"\":\n",
        "            found_null_values.append(None)\n",
        "        else:\n",
        "            found_null_values.append(doc['overview'])\n",
        "    else: # unsuccess status code / unable to fetch\n",
        "        found_null_values.append(None)\n",
        "    clear_output(wait = True)\n",
        "\n",
        "df.loc[df.overview == \"be-coll-finding\", 'overview'] = found_null_values"
      ]
    },
    {
      "cell_type": "code",
      "execution_count": null,
      "metadata": {
        "colab": {
          "base_uri": "https://localhost:8080/"
        },
        "id": "sDmRdPFq2CS8",
        "outputId": "6339a08b-3a83-4a72-e607-57d796de27a7"
      },
      "outputs": [
        {
          "output_type": "execute_result",
          "data": {
            "text/plain": [
              "level_0         0\n",
              "index           0\n",
              "genres          0\n",
              "id              0\n",
              "imdb_id         0\n",
              "overview       26\n",
              "poster_path    23\n",
              "title           0\n",
              "cast            0\n",
              "crew            0\n",
              "dtype: int64"
            ]
          },
          "metadata": {},
          "execution_count": 52
        }
      ],
      "source": [
        "df.isnull().sum()"
      ]
    },
    {
      "cell_type": "code",
      "execution_count": null,
      "metadata": {
        "id": "jjZk10xn2N9x"
      },
      "outputs": [],
      "source": [
        "df.dropna(subset=[\"overview\"],inplace=True)"
      ]
    },
    {
      "cell_type": "code",
      "execution_count": null,
      "metadata": {
        "colab": {
          "base_uri": "https://localhost:8080/"
        },
        "id": "e1PhVUru2gZc",
        "outputId": "e1dbc6a6-efd5-48cd-fd4c-9d26acbde24d"
      },
      "outputs": [
        {
          "output_type": "execute_result",
          "data": {
            "text/plain": [
              "level_0         0\n",
              "index           0\n",
              "genres          0\n",
              "id              0\n",
              "imdb_id         0\n",
              "overview        0\n",
              "poster_path    22\n",
              "title           0\n",
              "cast            0\n",
              "crew            0\n",
              "dtype: int64"
            ]
          },
          "metadata": {},
          "execution_count": 54
        }
      ],
      "source": [
        "df.isnull().sum()"
      ]
    },
    {
      "cell_type": "code",
      "execution_count": null,
      "metadata": {
        "colab": {
          "base_uri": "https://localhost:8080/"
        },
        "id": "aUIwCNOW2kzB",
        "outputId": "40f65b7e-9233-4c61-ebf1-0028ef505898"
      },
      "outputs": [
        {
          "output_type": "execute_result",
          "data": {
            "text/plain": [
              "level_0         0\n",
              "index           0\n",
              "genres          0\n",
              "id              0\n",
              "imdb_id         0\n",
              "overview        0\n",
              "poster_path    22\n",
              "title           0\n",
              "cast            0\n",
              "crew            0\n",
              "dtype: int64"
            ]
          },
          "metadata": {},
          "execution_count": 55
        }
      ],
      "source": [
        "df.isnull().sum()"
      ]
    },
    {
      "cell_type": "markdown",
      "metadata": {
        "id": "V0H5siz53Cd2"
      },
      "source": [
        ">> ## Filling poster_path null values"
      ]
    },
    {
      "cell_type": "code",
      "execution_count": null,
      "metadata": {
        "colab": {
          "base_uri": "https://localhost:8080/"
        },
        "id": "GPVNAG_QXP6P",
        "outputId": "a2bea000-0d89-4ab2-acca-0b72ed19bdf3"
      },
      "outputs": [
        {
          "output_type": "execute_result",
          "data": {
            "text/plain": [
              "Index(['level_0', 'index', 'genres', 'id', 'imdb_id', 'overview',\n",
              "       'poster_path', 'title', 'cast', 'crew'],\n",
              "      dtype='object')"
            ]
          },
          "metadata": {},
          "execution_count": 56
        }
      ],
      "source": [
        "df.columns"
      ]
    },
    {
      "cell_type": "code",
      "execution_count": null,
      "metadata": {
        "id": "YgSSkouhXbm-"
      },
      "outputs": [],
      "source": [
        "df = df[['genres', 'id', 'imdb_id', 'overview',\n",
        "       'poster_path', 'title', 'cast', 'crew']]"
      ]
    },
    {
      "cell_type": "code",
      "execution_count": null,
      "metadata": {
        "id": "aPxC0D9F4fqf"
      },
      "outputs": [],
      "source": [
        "df = df.reset_index()"
      ]
    },
    {
      "cell_type": "code",
      "execution_count": null,
      "metadata": {
        "colab": {
          "base_uri": "https://localhost:8080/"
        },
        "id": "08HSf2vO2zOb",
        "outputId": "d3d9b517-5af9-41af-b95d-e14597f65bbc"
      },
      "outputs": [
        {
          "output_type": "stream",
          "name": "stdout",
          "text": [
            "22\n"
          ]
        }
      ],
      "source": [
        "from IPython.display import clear_output\n",
        "\n",
        "df['poster_path'] = df['poster_path'].fillna(\"be-coll-finding\")\n",
        "null_values_index = df.index[df['poster_path'] == \"be-coll-finding\"].tolist()\n",
        "\n",
        "found_null_values = []\n",
        "count = 1\n",
        "\n",
        "for index in null_values_index:\n",
        "    print(count)\n",
        "    count += 1\n",
        "    api_key = \"3222076ed226933d3e1302ce9f3b73dc\"\n",
        "    movie_id = df.iloc[index].id\n",
        "    url = f\"https://api.themoviedb.org/3/movie/{movie_id}?api_key={api_key}&language=en-US\"\n",
        "    response = requests.get(url)\n",
        "    # print(response.status_code)\n",
        "    if response.status_code == 200:\n",
        "        doc = response.json()\n",
        "        if doc['poster_path'] == \"\":\n",
        "            found_null_values.append(None)\n",
        "        else:\n",
        "            found_null_values.append(doc['poster_path'])\n",
        "    else: # unsuccess status code / unable to fetch\n",
        "        found_null_values.append(None)\n",
        "    clear_output(wait = True)\n",
        "\n",
        "df.loc[df.poster_path == \"be-coll-finding\", 'poster_path'] = found_null_values"
      ]
    },
    {
      "cell_type": "code",
      "execution_count": null,
      "metadata": {
        "colab": {
          "base_uri": "https://localhost:8080/"
        },
        "id": "mt42oP1U3za1",
        "outputId": "0cf77cae-9a74-47bf-e91f-a6dea4812314"
      },
      "outputs": [
        {
          "output_type": "execute_result",
          "data": {
            "text/plain": [
              "index          0\n",
              "genres         0\n",
              "id             0\n",
              "imdb_id        0\n",
              "overview       0\n",
              "poster_path    6\n",
              "title          0\n",
              "cast           0\n",
              "crew           0\n",
              "dtype: int64"
            ]
          },
          "metadata": {},
          "execution_count": 60
        }
      ],
      "source": [
        "df.isnull().sum()"
      ]
    },
    {
      "cell_type": "code",
      "execution_count": null,
      "metadata": {
        "id": "dxoejVA85CKz"
      },
      "outputs": [],
      "source": [
        "df.dropna(subset=[\"poster_path\",\"title\"],inplace=True)"
      ]
    },
    {
      "cell_type": "code",
      "execution_count": null,
      "metadata": {
        "colab": {
          "base_uri": "https://localhost:8080/"
        },
        "id": "NonbMVoL5QSX",
        "outputId": "f5b6f4ff-0d54-4027-afbd-80bde83c8db3"
      },
      "outputs": [
        {
          "output_type": "execute_result",
          "data": {
            "text/plain": [
              "index          0\n",
              "genres         0\n",
              "id             0\n",
              "imdb_id        0\n",
              "overview       0\n",
              "poster_path    0\n",
              "title          0\n",
              "cast           0\n",
              "crew           0\n",
              "dtype: int64"
            ]
          },
          "metadata": {},
          "execution_count": 62
        }
      ],
      "source": [
        "df.isnull().sum()"
      ]
    },
    {
      "cell_type": "code",
      "execution_count": null,
      "metadata": {
        "colab": {
          "base_uri": "https://localhost:8080/"
        },
        "id": "zrUib1Bu5Zb2",
        "outputId": "da8e92d0-c74f-4737-b3ea-41ab410bef54"
      },
      "outputs": [
        {
          "output_type": "execute_result",
          "data": {
            "text/plain": [
              "(21908, 9)"
            ]
          },
          "metadata": {},
          "execution_count": 63
        }
      ],
      "source": [
        "df.shape"
      ]
    },
    {
      "cell_type": "code",
      "execution_count": null,
      "metadata": {
        "id": "5Q6n1h1u5c7Q"
      },
      "outputs": [],
      "source": [
        "df = df.reset_index()"
      ]
    },
    {
      "cell_type": "markdown",
      "metadata": {
        "id": "M2zyPwcOX8cn"
      },
      "source": [
        ">> ## genres, cast, crew - '[]' null vector data remove"
      ]
    },
    {
      "cell_type": "code",
      "execution_count": null,
      "metadata": {
        "id": "M48OdnlUX2qh"
      },
      "outputs": [],
      "source": [
        "# %load_ext google.colab.data_table\n",
        "# from google.colab import data_table\n",
        "# data_table.enable_dataframe_formatter()\n",
        "# data_table.disable_dataframe_formatter()"
      ]
    },
    {
      "cell_type": "code",
      "execution_count": null,
      "metadata": {
        "colab": {
          "base_uri": "https://localhost:8080/"
        },
        "id": "4zziucqqufmR",
        "outputId": "bdcc8f05-f6d3-41d2-8963-562264d48bb8"
      },
      "outputs": [
        {
          "output_type": "execute_result",
          "data": {
            "text/plain": [
              "Index(['level_0', 'index', 'genres', 'id', 'imdb_id', 'overview',\n",
              "       'poster_path', 'title', 'cast', 'crew'],\n",
              "      dtype='object')"
            ]
          },
          "metadata": {},
          "execution_count": 66
        }
      ],
      "source": [
        "df.columns"
      ]
    },
    {
      "cell_type": "code",
      "execution_count": null,
      "metadata": {
        "id": "_ZG_63rKxPlo"
      },
      "outputs": [],
      "source": [
        "df = df[['genres', 'id', 'imdb_id', 'overview',\n",
        "       'poster_path', 'title', 'cast', 'crew']]"
      ]
    },
    {
      "cell_type": "code",
      "execution_count": null,
      "metadata": {
        "colab": {
          "base_uri": "https://localhost:8080/"
        },
        "id": "0MMGmWrwxbh5",
        "outputId": "fa8a10ae-90da-4767-ebae-2fb677ece31b"
      },
      "outputs": [
        {
          "output_type": "execute_result",
          "data": {
            "text/plain": [
              "RangeIndex(start=0, stop=21908, step=1)"
            ]
          },
          "metadata": {},
          "execution_count": 68
        }
      ],
      "source": [
        "df.index"
      ]
    },
    {
      "cell_type": "code",
      "execution_count": null,
      "metadata": {
        "colab": {
          "base_uri": "https://localhost:8080/"
        },
        "id": "M7Z8s39zx4Xp",
        "outputId": "54074d61-61fe-48fb-b39f-f755d801c2ea"
      },
      "outputs": [
        {
          "output_type": "execute_result",
          "data": {
            "text/plain": [
              "21908"
            ]
          },
          "metadata": {},
          "execution_count": 69
        }
      ],
      "source": [
        "df.shape[0]"
      ]
    },
    {
      "cell_type": "code",
      "execution_count": null,
      "metadata": {
        "colab": {
          "base_uri": "https://localhost:8080/",
          "height": 36
        },
        "id": "AKHsTj92yEir",
        "outputId": "baccb013-2d85-45c5-c94b-df17390aab0a"
      },
      "outputs": [
        {
          "output_type": "execute_result",
          "data": {
            "text/plain": [
              "\"[{'id': 12, 'name': 'Adventure'}, {'id': 14, 'name': 'Fantasy'}, {'id': 10751, 'name': 'Family'}]\""
            ],
            "application/vnd.google.colaboratory.intrinsic+json": {
              "type": "string"
            }
          },
          "metadata": {},
          "execution_count": 70
        }
      ],
      "source": [
        "df['genres'][0]"
      ]
    },
    {
      "cell_type": "code",
      "execution_count": null,
      "metadata": {
        "id": "XkbiLeLKx7J-"
      },
      "outputs": [],
      "source": [
        "null_index = []\n",
        "for i in range(df.shape[0]):\n",
        "    if df['genres'][i] == '[]':\n",
        "        null_index.append(i)"
      ]
    },
    {
      "cell_type": "code",
      "execution_count": null,
      "metadata": {
        "colab": {
          "base_uri": "https://localhost:8080/"
        },
        "id": "JExGOUEKyP4i",
        "outputId": "85cc36d9-4c4f-49e0-9678-675cf629b075"
      },
      "outputs": [
        {
          "output_type": "execute_result",
          "data": {
            "text/plain": [
              "552"
            ]
          },
          "metadata": {},
          "execution_count": 72
        }
      ],
      "source": [
        "len(null_index)"
      ]
    },
    {
      "cell_type": "code",
      "execution_count": null,
      "metadata": {
        "id": "2RZeWJYczDJk"
      },
      "outputs": [],
      "source": [
        "df = df.drop(df.index[null_index])"
      ]
    },
    {
      "cell_type": "code",
      "execution_count": null,
      "metadata": {
        "colab": {
          "base_uri": "https://localhost:8080/"
        },
        "id": "HEThmK_7zUKA",
        "outputId": "b798a505-6cb6-418c-fa5f-7b8deee8f92d"
      },
      "outputs": [
        {
          "output_type": "execute_result",
          "data": {
            "text/plain": [
              "(21356, 8)"
            ]
          },
          "metadata": {},
          "execution_count": 74
        }
      ],
      "source": [
        "df.shape"
      ]
    },
    {
      "cell_type": "code",
      "execution_count": null,
      "metadata": {
        "id": "zz_hhbjEzZAd"
      },
      "outputs": [],
      "source": [
        "df = df.reset_index()"
      ]
    },
    {
      "cell_type": "code",
      "execution_count": null,
      "metadata": {
        "colab": {
          "base_uri": "https://localhost:8080/",
          "height": 191
        },
        "id": "8TWHibrHzgM2",
        "outputId": "15b182bc-eabe-4d2f-ad83-b811b47ee10d"
      },
      "outputs": [
        {
          "output_type": "execute_result",
          "data": {
            "text/plain": [
              "   index                                             genres     id    imdb_id  \\\n",
              "0      0  [{'id': 12, 'name': 'Adventure'}, {'id': 14, '...   8844  tt0113497   \n",
              "1      1  [{'id': 10749, 'name': 'Romance'}, {'id': 35, ...  15602  tt0113228   \n",
              "\n",
              "                                            overview  \\\n",
              "0  When siblings Judy and Peter discover an encha...   \n",
              "1  A family wedding reignites the ancient feud be...   \n",
              "\n",
              "                        poster_path             title  \\\n",
              "0  /vzmL6fP7aPKNKPRTFnZmiUfciyV.jpg           Jumanji   \n",
              "1  /6ksm1sjKMFLbO7UY2i6G1ju9SML.jpg  Grumpier Old Men   \n",
              "\n",
              "                                                cast  \\\n",
              "0  [{'cast_id': 1, 'character': 'Alan Parrish', '...   \n",
              "1  [{'cast_id': 2, 'character': 'Max Goldman', 'c...   \n",
              "\n",
              "                                                crew  \n",
              "0  [{'credit_id': '52fe44bfc3a36847f80a7cd1', 'de...  \n",
              "1  [{'credit_id': '52fe466a9251416c75077a89', 'de...  "
            ],
            "text/html": [
              "\n",
              "  <div id=\"df-5bae1fdd-c6e9-4b78-beab-a5f84f30ac49\">\n",
              "    <div class=\"colab-df-container\">\n",
              "      <div>\n",
              "<style scoped>\n",
              "    .dataframe tbody tr th:only-of-type {\n",
              "        vertical-align: middle;\n",
              "    }\n",
              "\n",
              "    .dataframe tbody tr th {\n",
              "        vertical-align: top;\n",
              "    }\n",
              "\n",
              "    .dataframe thead th {\n",
              "        text-align: right;\n",
              "    }\n",
              "</style>\n",
              "<table border=\"1\" class=\"dataframe\">\n",
              "  <thead>\n",
              "    <tr style=\"text-align: right;\">\n",
              "      <th></th>\n",
              "      <th>index</th>\n",
              "      <th>genres</th>\n",
              "      <th>id</th>\n",
              "      <th>imdb_id</th>\n",
              "      <th>overview</th>\n",
              "      <th>poster_path</th>\n",
              "      <th>title</th>\n",
              "      <th>cast</th>\n",
              "      <th>crew</th>\n",
              "    </tr>\n",
              "  </thead>\n",
              "  <tbody>\n",
              "    <tr>\n",
              "      <th>0</th>\n",
              "      <td>0</td>\n",
              "      <td>[{'id': 12, 'name': 'Adventure'}, {'id': 14, '...</td>\n",
              "      <td>8844</td>\n",
              "      <td>tt0113497</td>\n",
              "      <td>When siblings Judy and Peter discover an encha...</td>\n",
              "      <td>/vzmL6fP7aPKNKPRTFnZmiUfciyV.jpg</td>\n",
              "      <td>Jumanji</td>\n",
              "      <td>[{'cast_id': 1, 'character': 'Alan Parrish', '...</td>\n",
              "      <td>[{'credit_id': '52fe44bfc3a36847f80a7cd1', 'de...</td>\n",
              "    </tr>\n",
              "    <tr>\n",
              "      <th>1</th>\n",
              "      <td>1</td>\n",
              "      <td>[{'id': 10749, 'name': 'Romance'}, {'id': 35, ...</td>\n",
              "      <td>15602</td>\n",
              "      <td>tt0113228</td>\n",
              "      <td>A family wedding reignites the ancient feud be...</td>\n",
              "      <td>/6ksm1sjKMFLbO7UY2i6G1ju9SML.jpg</td>\n",
              "      <td>Grumpier Old Men</td>\n",
              "      <td>[{'cast_id': 2, 'character': 'Max Goldman', 'c...</td>\n",
              "      <td>[{'credit_id': '52fe466a9251416c75077a89', 'de...</td>\n",
              "    </tr>\n",
              "  </tbody>\n",
              "</table>\n",
              "</div>\n",
              "      <button class=\"colab-df-convert\" onclick=\"convertToInteractive('df-5bae1fdd-c6e9-4b78-beab-a5f84f30ac49')\"\n",
              "              title=\"Convert this dataframe to an interactive table.\"\n",
              "              style=\"display:none;\">\n",
              "        \n",
              "  <svg xmlns=\"http://www.w3.org/2000/svg\" height=\"24px\"viewBox=\"0 0 24 24\"\n",
              "       width=\"24px\">\n",
              "    <path d=\"M0 0h24v24H0V0z\" fill=\"none\"/>\n",
              "    <path d=\"M18.56 5.44l.94 2.06.94-2.06 2.06-.94-2.06-.94-.94-2.06-.94 2.06-2.06.94zm-11 1L8.5 8.5l.94-2.06 2.06-.94-2.06-.94L8.5 2.5l-.94 2.06-2.06.94zm10 10l.94 2.06.94-2.06 2.06-.94-2.06-.94-.94-2.06-.94 2.06-2.06.94z\"/><path d=\"M17.41 7.96l-1.37-1.37c-.4-.4-.92-.59-1.43-.59-.52 0-1.04.2-1.43.59L10.3 9.45l-7.72 7.72c-.78.78-.78 2.05 0 2.83L4 21.41c.39.39.9.59 1.41.59.51 0 1.02-.2 1.41-.59l7.78-7.78 2.81-2.81c.8-.78.8-2.07 0-2.86zM5.41 20L4 18.59l7.72-7.72 1.47 1.35L5.41 20z\"/>\n",
              "  </svg>\n",
              "      </button>\n",
              "      \n",
              "  <style>\n",
              "    .colab-df-container {\n",
              "      display:flex;\n",
              "      flex-wrap:wrap;\n",
              "      gap: 12px;\n",
              "    }\n",
              "\n",
              "    .colab-df-convert {\n",
              "      background-color: #E8F0FE;\n",
              "      border: none;\n",
              "      border-radius: 50%;\n",
              "      cursor: pointer;\n",
              "      display: none;\n",
              "      fill: #1967D2;\n",
              "      height: 32px;\n",
              "      padding: 0 0 0 0;\n",
              "      width: 32px;\n",
              "    }\n",
              "\n",
              "    .colab-df-convert:hover {\n",
              "      background-color: #E2EBFA;\n",
              "      box-shadow: 0px 1px 2px rgba(60, 64, 67, 0.3), 0px 1px 3px 1px rgba(60, 64, 67, 0.15);\n",
              "      fill: #174EA6;\n",
              "    }\n",
              "\n",
              "    [theme=dark] .colab-df-convert {\n",
              "      background-color: #3B4455;\n",
              "      fill: #D2E3FC;\n",
              "    }\n",
              "\n",
              "    [theme=dark] .colab-df-convert:hover {\n",
              "      background-color: #434B5C;\n",
              "      box-shadow: 0px 1px 3px 1px rgba(0, 0, 0, 0.15);\n",
              "      filter: drop-shadow(0px 1px 2px rgba(0, 0, 0, 0.3));\n",
              "      fill: #FFFFFF;\n",
              "    }\n",
              "  </style>\n",
              "\n",
              "      <script>\n",
              "        const buttonEl =\n",
              "          document.querySelector('#df-5bae1fdd-c6e9-4b78-beab-a5f84f30ac49 button.colab-df-convert');\n",
              "        buttonEl.style.display =\n",
              "          google.colab.kernel.accessAllowed ? 'block' : 'none';\n",
              "\n",
              "        async function convertToInteractive(key) {\n",
              "          const element = document.querySelector('#df-5bae1fdd-c6e9-4b78-beab-a5f84f30ac49');\n",
              "          const dataTable =\n",
              "            await google.colab.kernel.invokeFunction('convertToInteractive',\n",
              "                                                     [key], {});\n",
              "          if (!dataTable) return;\n",
              "\n",
              "          const docLinkHtml = 'Like what you see? Visit the ' +\n",
              "            '<a target=\"_blank\" href=https://colab.research.google.com/notebooks/data_table.ipynb>data table notebook</a>'\n",
              "            + ' to learn more about interactive tables.';\n",
              "          element.innerHTML = '';\n",
              "          dataTable['output_type'] = 'display_data';\n",
              "          await google.colab.output.renderOutput(dataTable, element);\n",
              "          const docLink = document.createElement('div');\n",
              "          docLink.innerHTML = docLinkHtml;\n",
              "          element.appendChild(docLink);\n",
              "        }\n",
              "      </script>\n",
              "    </div>\n",
              "  </div>\n",
              "  "
            ]
          },
          "metadata": {},
          "execution_count": 76
        }
      ],
      "source": [
        "df[:2]"
      ]
    },
    {
      "cell_type": "code",
      "execution_count": null,
      "metadata": {
        "colab": {
          "base_uri": "https://localhost:8080/"
        },
        "id": "C1ilcQnDzlws",
        "outputId": "20771d65-e7e1-4a31-9cdb-b08775fb96c8"
      },
      "outputs": [
        {
          "output_type": "execute_result",
          "data": {
            "text/plain": [
              "Index(['index', 'genres', 'id', 'imdb_id', 'overview', 'poster_path', 'title',\n",
              "       'cast', 'crew'],\n",
              "      dtype='object')"
            ]
          },
          "metadata": {},
          "execution_count": 77
        }
      ],
      "source": [
        "df.columns"
      ]
    },
    {
      "cell_type": "code",
      "execution_count": null,
      "metadata": {
        "id": "A-C5N0JJzqW6"
      },
      "outputs": [],
      "source": [
        "df = df[['genres', 'id', 'imdb_id', 'overview', 'poster_path', 'title',\n",
        "       'cast', 'crew']]"
      ]
    },
    {
      "cell_type": "code",
      "execution_count": null,
      "metadata": {
        "colab": {
          "base_uri": "https://localhost:8080/",
          "height": 191
        },
        "id": "GjlRPDEFzumL",
        "outputId": "d137baea-f1b9-42e5-c2b3-fba8276d723a"
      },
      "outputs": [
        {
          "output_type": "execute_result",
          "data": {
            "text/plain": [
              "                                              genres     id    imdb_id  \\\n",
              "0  [{'id': 12, 'name': 'Adventure'}, {'id': 14, '...   8844  tt0113497   \n",
              "1  [{'id': 10749, 'name': 'Romance'}, {'id': 35, ...  15602  tt0113228   \n",
              "\n",
              "                                            overview  \\\n",
              "0  When siblings Judy and Peter discover an encha...   \n",
              "1  A family wedding reignites the ancient feud be...   \n",
              "\n",
              "                        poster_path             title  \\\n",
              "0  /vzmL6fP7aPKNKPRTFnZmiUfciyV.jpg           Jumanji   \n",
              "1  /6ksm1sjKMFLbO7UY2i6G1ju9SML.jpg  Grumpier Old Men   \n",
              "\n",
              "                                                cast  \\\n",
              "0  [{'cast_id': 1, 'character': 'Alan Parrish', '...   \n",
              "1  [{'cast_id': 2, 'character': 'Max Goldman', 'c...   \n",
              "\n",
              "                                                crew  \n",
              "0  [{'credit_id': '52fe44bfc3a36847f80a7cd1', 'de...  \n",
              "1  [{'credit_id': '52fe466a9251416c75077a89', 'de...  "
            ],
            "text/html": [
              "\n",
              "  <div id=\"df-ca48791a-04d5-44c9-9e00-59be802e2f13\">\n",
              "    <div class=\"colab-df-container\">\n",
              "      <div>\n",
              "<style scoped>\n",
              "    .dataframe tbody tr th:only-of-type {\n",
              "        vertical-align: middle;\n",
              "    }\n",
              "\n",
              "    .dataframe tbody tr th {\n",
              "        vertical-align: top;\n",
              "    }\n",
              "\n",
              "    .dataframe thead th {\n",
              "        text-align: right;\n",
              "    }\n",
              "</style>\n",
              "<table border=\"1\" class=\"dataframe\">\n",
              "  <thead>\n",
              "    <tr style=\"text-align: right;\">\n",
              "      <th></th>\n",
              "      <th>genres</th>\n",
              "      <th>id</th>\n",
              "      <th>imdb_id</th>\n",
              "      <th>overview</th>\n",
              "      <th>poster_path</th>\n",
              "      <th>title</th>\n",
              "      <th>cast</th>\n",
              "      <th>crew</th>\n",
              "    </tr>\n",
              "  </thead>\n",
              "  <tbody>\n",
              "    <tr>\n",
              "      <th>0</th>\n",
              "      <td>[{'id': 12, 'name': 'Adventure'}, {'id': 14, '...</td>\n",
              "      <td>8844</td>\n",
              "      <td>tt0113497</td>\n",
              "      <td>When siblings Judy and Peter discover an encha...</td>\n",
              "      <td>/vzmL6fP7aPKNKPRTFnZmiUfciyV.jpg</td>\n",
              "      <td>Jumanji</td>\n",
              "      <td>[{'cast_id': 1, 'character': 'Alan Parrish', '...</td>\n",
              "      <td>[{'credit_id': '52fe44bfc3a36847f80a7cd1', 'de...</td>\n",
              "    </tr>\n",
              "    <tr>\n",
              "      <th>1</th>\n",
              "      <td>[{'id': 10749, 'name': 'Romance'}, {'id': 35, ...</td>\n",
              "      <td>15602</td>\n",
              "      <td>tt0113228</td>\n",
              "      <td>A family wedding reignites the ancient feud be...</td>\n",
              "      <td>/6ksm1sjKMFLbO7UY2i6G1ju9SML.jpg</td>\n",
              "      <td>Grumpier Old Men</td>\n",
              "      <td>[{'cast_id': 2, 'character': 'Max Goldman', 'c...</td>\n",
              "      <td>[{'credit_id': '52fe466a9251416c75077a89', 'de...</td>\n",
              "    </tr>\n",
              "  </tbody>\n",
              "</table>\n",
              "</div>\n",
              "      <button class=\"colab-df-convert\" onclick=\"convertToInteractive('df-ca48791a-04d5-44c9-9e00-59be802e2f13')\"\n",
              "              title=\"Convert this dataframe to an interactive table.\"\n",
              "              style=\"display:none;\">\n",
              "        \n",
              "  <svg xmlns=\"http://www.w3.org/2000/svg\" height=\"24px\"viewBox=\"0 0 24 24\"\n",
              "       width=\"24px\">\n",
              "    <path d=\"M0 0h24v24H0V0z\" fill=\"none\"/>\n",
              "    <path d=\"M18.56 5.44l.94 2.06.94-2.06 2.06-.94-2.06-.94-.94-2.06-.94 2.06-2.06.94zm-11 1L8.5 8.5l.94-2.06 2.06-.94-2.06-.94L8.5 2.5l-.94 2.06-2.06.94zm10 10l.94 2.06.94-2.06 2.06-.94-2.06-.94-.94-2.06-.94 2.06-2.06.94z\"/><path d=\"M17.41 7.96l-1.37-1.37c-.4-.4-.92-.59-1.43-.59-.52 0-1.04.2-1.43.59L10.3 9.45l-7.72 7.72c-.78.78-.78 2.05 0 2.83L4 21.41c.39.39.9.59 1.41.59.51 0 1.02-.2 1.41-.59l7.78-7.78 2.81-2.81c.8-.78.8-2.07 0-2.86zM5.41 20L4 18.59l7.72-7.72 1.47 1.35L5.41 20z\"/>\n",
              "  </svg>\n",
              "      </button>\n",
              "      \n",
              "  <style>\n",
              "    .colab-df-container {\n",
              "      display:flex;\n",
              "      flex-wrap:wrap;\n",
              "      gap: 12px;\n",
              "    }\n",
              "\n",
              "    .colab-df-convert {\n",
              "      background-color: #E8F0FE;\n",
              "      border: none;\n",
              "      border-radius: 50%;\n",
              "      cursor: pointer;\n",
              "      display: none;\n",
              "      fill: #1967D2;\n",
              "      height: 32px;\n",
              "      padding: 0 0 0 0;\n",
              "      width: 32px;\n",
              "    }\n",
              "\n",
              "    .colab-df-convert:hover {\n",
              "      background-color: #E2EBFA;\n",
              "      box-shadow: 0px 1px 2px rgba(60, 64, 67, 0.3), 0px 1px 3px 1px rgba(60, 64, 67, 0.15);\n",
              "      fill: #174EA6;\n",
              "    }\n",
              "\n",
              "    [theme=dark] .colab-df-convert {\n",
              "      background-color: #3B4455;\n",
              "      fill: #D2E3FC;\n",
              "    }\n",
              "\n",
              "    [theme=dark] .colab-df-convert:hover {\n",
              "      background-color: #434B5C;\n",
              "      box-shadow: 0px 1px 3px 1px rgba(0, 0, 0, 0.15);\n",
              "      filter: drop-shadow(0px 1px 2px rgba(0, 0, 0, 0.3));\n",
              "      fill: #FFFFFF;\n",
              "    }\n",
              "  </style>\n",
              "\n",
              "      <script>\n",
              "        const buttonEl =\n",
              "          document.querySelector('#df-ca48791a-04d5-44c9-9e00-59be802e2f13 button.colab-df-convert');\n",
              "        buttonEl.style.display =\n",
              "          google.colab.kernel.accessAllowed ? 'block' : 'none';\n",
              "\n",
              "        async function convertToInteractive(key) {\n",
              "          const element = document.querySelector('#df-ca48791a-04d5-44c9-9e00-59be802e2f13');\n",
              "          const dataTable =\n",
              "            await google.colab.kernel.invokeFunction('convertToInteractive',\n",
              "                                                     [key], {});\n",
              "          if (!dataTable) return;\n",
              "\n",
              "          const docLinkHtml = 'Like what you see? Visit the ' +\n",
              "            '<a target=\"_blank\" href=https://colab.research.google.com/notebooks/data_table.ipynb>data table notebook</a>'\n",
              "            + ' to learn more about interactive tables.';\n",
              "          element.innerHTML = '';\n",
              "          dataTable['output_type'] = 'display_data';\n",
              "          await google.colab.output.renderOutput(dataTable, element);\n",
              "          const docLink = document.createElement('div');\n",
              "          docLink.innerHTML = docLinkHtml;\n",
              "          element.appendChild(docLink);\n",
              "        }\n",
              "      </script>\n",
              "    </div>\n",
              "  </div>\n",
              "  "
            ]
          },
          "metadata": {},
          "execution_count": 79
        }
      ],
      "source": [
        "df[:2]"
      ]
    },
    {
      "cell_type": "code",
      "execution_count": null,
      "metadata": {
        "id": "WKDPLPbEzvoc"
      },
      "outputs": [],
      "source": [
        "null_index = []\n",
        "for i in range(df.shape[0]):\n",
        "    if df['cast'][i] == '[]':\n",
        "        null_index.append(i)"
      ]
    },
    {
      "cell_type": "code",
      "execution_count": null,
      "metadata": {
        "colab": {
          "base_uri": "https://localhost:8080/"
        },
        "id": "osjmMEk3z84k",
        "outputId": "a01ef09b-32e8-4d14-a9f7-b8b48adb4490"
      },
      "outputs": [
        {
          "output_type": "execute_result",
          "data": {
            "text/plain": [
              "266"
            ]
          },
          "metadata": {},
          "execution_count": 81
        }
      ],
      "source": [
        "len(null_index)"
      ]
    },
    {
      "cell_type": "code",
      "execution_count": null,
      "metadata": {
        "id": "vGxsQZNCz-4M"
      },
      "outputs": [],
      "source": [
        "df = df.drop(df.index[null_index])"
      ]
    },
    {
      "cell_type": "code",
      "execution_count": null,
      "metadata": {
        "colab": {
          "base_uri": "https://localhost:8080/"
        },
        "id": "B983A9Z80F9p",
        "outputId": "feb38848-00e4-4f7e-8f39-b9ceee11b8dd"
      },
      "outputs": [
        {
          "output_type": "execute_result",
          "data": {
            "text/plain": [
              "(21090, 8)"
            ]
          },
          "metadata": {},
          "execution_count": 83
        }
      ],
      "source": [
        "df.shape"
      ]
    },
    {
      "cell_type": "code",
      "execution_count": null,
      "metadata": {
        "id": "71x8n10R0LLV"
      },
      "outputs": [],
      "source": [
        "df = df.reset_index()"
      ]
    },
    {
      "cell_type": "code",
      "execution_count": null,
      "metadata": {
        "colab": {
          "base_uri": "https://localhost:8080/"
        },
        "id": "JA9FnQ2S0wdb",
        "outputId": "cf2f1f51-f83f-4632-c2ec-1fbb71385f53"
      },
      "outputs": [
        {
          "output_type": "execute_result",
          "data": {
            "text/plain": [
              "Index(['index', 'genres', 'id', 'imdb_id', 'overview', 'poster_path', 'title',\n",
              "       'cast', 'crew'],\n",
              "      dtype='object')"
            ]
          },
          "metadata": {},
          "execution_count": 85
        }
      ],
      "source": [
        "df.columns"
      ]
    },
    {
      "cell_type": "code",
      "execution_count": null,
      "metadata": {
        "id": "RrlCXPJH01g7"
      },
      "outputs": [],
      "source": [
        "df = df[['genres', 'id', 'imdb_id', 'overview', 'poster_path', 'title',\n",
        "       'cast', 'crew']]"
      ]
    },
    {
      "cell_type": "code",
      "execution_count": null,
      "metadata": {
        "colab": {
          "base_uri": "https://localhost:8080/"
        },
        "id": "BcliuSJn1D2r",
        "outputId": "d7a5747b-b788-4a82-b519-2420803425b1"
      },
      "outputs": [
        {
          "output_type": "execute_result",
          "data": {
            "text/plain": [
              "(21090, 8)"
            ]
          },
          "metadata": {},
          "execution_count": 87
        }
      ],
      "source": [
        "df.shape"
      ]
    },
    {
      "cell_type": "code",
      "execution_count": null,
      "metadata": {
        "id": "b3KzKeHz1Epm"
      },
      "outputs": [],
      "source": [
        "null_index = []\n",
        "for i in range(df.shape[0]):\n",
        "    if df['crew'][i] == '[]':\n",
        "        null_index.append(i)"
      ]
    },
    {
      "cell_type": "code",
      "execution_count": null,
      "metadata": {
        "colab": {
          "base_uri": "https://localhost:8080/"
        },
        "id": "J-wGWLrw1Jav",
        "outputId": "7e958e04-fa3d-4e54-cc17-aa594540b940"
      },
      "outputs": [
        {
          "output_type": "execute_result",
          "data": {
            "text/plain": [
              "73"
            ]
          },
          "metadata": {},
          "execution_count": 89
        }
      ],
      "source": [
        "len(null_index)"
      ]
    },
    {
      "cell_type": "code",
      "execution_count": null,
      "metadata": {
        "id": "TErtgM1B1K3-"
      },
      "outputs": [],
      "source": [
        "df = df.drop(df.index[null_index])"
      ]
    },
    {
      "cell_type": "code",
      "execution_count": null,
      "metadata": {
        "id": "INXbXFVi1QQY"
      },
      "outputs": [],
      "source": [
        "df = df.reset_index()"
      ]
    },
    {
      "cell_type": "code",
      "execution_count": null,
      "metadata": {
        "colab": {
          "base_uri": "https://localhost:8080/"
        },
        "id": "LuAMijA_1b9a",
        "outputId": "13480695-6b8c-4e58-e5d2-7ec1e965d3d4"
      },
      "outputs": [
        {
          "output_type": "execute_result",
          "data": {
            "text/plain": [
              "Index(['index', 'genres', 'id', 'imdb_id', 'overview', 'poster_path', 'title',\n",
              "       'cast', 'crew'],\n",
              "      dtype='object')"
            ]
          },
          "metadata": {},
          "execution_count": 92
        }
      ],
      "source": [
        "df.columns"
      ]
    },
    {
      "cell_type": "code",
      "execution_count": null,
      "metadata": {
        "id": "_Um6kt0-1fDT"
      },
      "outputs": [],
      "source": [
        "df = df[['genres', 'id', 'imdb_id', 'overview', 'poster_path', 'title',\n",
        "       'cast', 'crew']]"
      ]
    },
    {
      "cell_type": "code",
      "execution_count": null,
      "metadata": {
        "id": "L4NrlgMB1iqf"
      },
      "outputs": [],
      "source": []
    },
    {
      "cell_type": "markdown",
      "metadata": {
        "id": "mtFtgUgT2y-J"
      },
      "source": [
        ">> ## Preprocessing on Cast, Crew"
      ]
    },
    {
      "cell_type": "code",
      "execution_count": null,
      "metadata": {
        "id": "l16J_UAw16bT"
      },
      "outputs": [],
      "source": [
        "def fetch_casts(list_of_dict):\n",
        "    list_of_dict = ast.literal_eval(list_of_dict)\n",
        "    lst = []\n",
        "    for dict_ in list_of_dict[:min(6,len(list_of_dict))]:\n",
        "        lst.append(dict_['name'])\n",
        "    return lst"
      ]
    },
    {
      "cell_type": "code",
      "execution_count": null,
      "metadata": {
        "id": "MQ23kfJD3QXu"
      },
      "outputs": [],
      "source": [
        "df['cast'] = df['cast'].apply(fetch_casts)"
      ]
    },
    {
      "cell_type": "code",
      "execution_count": null,
      "metadata": {
        "colab": {
          "base_uri": "https://localhost:8080/"
        },
        "id": "IlyoVebY4Btu",
        "outputId": "083c5110-6ef1-4b3e-a35d-3c04ab6d5832"
      },
      "outputs": [
        {
          "output_type": "execute_result",
          "data": {
            "text/plain": [
              "['Robin Williams',\n",
              " 'Jonathan Hyde',\n",
              " 'Kirsten Dunst',\n",
              " 'Bradley Pierce',\n",
              " 'Bonnie Hunt',\n",
              " 'Bebe Neuwirth']"
            ]
          },
          "metadata": {},
          "execution_count": 96
        }
      ],
      "source": [
        "df['cast'][0]"
      ]
    },
    {
      "cell_type": "code",
      "execution_count": null,
      "metadata": {
        "id": "DrdpdZ5-8IPs"
      },
      "outputs": [],
      "source": [
        "df['genres'] = df['genres'].apply(fetch_casts)"
      ]
    },
    {
      "cell_type": "code",
      "execution_count": null,
      "metadata": {
        "id": "qUZpBfqZ4Wkx"
      },
      "outputs": [],
      "source": [
        "def get_director(list_of_dict):\n",
        "    list_of_dict = ast.literal_eval(list_of_dict)\n",
        "    for dict_ in list_of_dict:\n",
        "        if dict_['job'] == 'Director':\n",
        "            return dict_['name']"
      ]
    },
    {
      "cell_type": "code",
      "execution_count": null,
      "metadata": {
        "id": "O6BzFtBa4szs"
      },
      "outputs": [],
      "source": [
        "df['director'] = df['crew'].apply(get_director)"
      ]
    },
    {
      "cell_type": "code",
      "execution_count": null,
      "metadata": {
        "colab": {
          "base_uri": "https://localhost:8080/"
        },
        "id": "FuumBnhP5QBz",
        "outputId": "8d79b59a-4a9a-4c19-c015-c5613f812944"
      },
      "outputs": [
        {
          "output_type": "execute_result",
          "data": {
            "text/plain": [
              "genres          0\n",
              "id              0\n",
              "imdb_id         0\n",
              "overview        0\n",
              "poster_path     0\n",
              "title           0\n",
              "cast            0\n",
              "crew            0\n",
              "director       19\n",
              "dtype: int64"
            ]
          },
          "metadata": {},
          "execution_count": 100
        }
      ],
      "source": [
        "df.isnull().sum()"
      ]
    },
    {
      "cell_type": "code",
      "execution_count": null,
      "metadata": {
        "id": "AS-_JHlt5d2C"
      },
      "outputs": [],
      "source": [
        "df.dropna(subset = ['director'],inplace=True)"
      ]
    },
    {
      "cell_type": "code",
      "execution_count": null,
      "metadata": {
        "colab": {
          "base_uri": "https://localhost:8080/"
        },
        "id": "1NEAPqUE5ntb",
        "outputId": "713e888c-b0f7-46ee-e621-a260d3bd1920"
      },
      "outputs": [
        {
          "output_type": "execute_result",
          "data": {
            "text/plain": [
              "genres         0\n",
              "id             0\n",
              "imdb_id        0\n",
              "overview       0\n",
              "poster_path    0\n",
              "title          0\n",
              "cast           0\n",
              "crew           0\n",
              "director       0\n",
              "dtype: int64"
            ]
          },
          "metadata": {},
          "execution_count": 102
        }
      ],
      "source": [
        "df.isnull().sum()"
      ]
    },
    {
      "cell_type": "code",
      "execution_count": null,
      "metadata": {
        "id": "OU7Sj6xA5t62"
      },
      "outputs": [],
      "source": [
        "df = df.reset_index()"
      ]
    },
    {
      "cell_type": "code",
      "execution_count": null,
      "metadata": {
        "colab": {
          "base_uri": "https://localhost:8080/"
        },
        "id": "4jqUJz4Q59Iz",
        "outputId": "c708f956-c245-4255-f92f-e66d938b5692"
      },
      "outputs": [
        {
          "output_type": "execute_result",
          "data": {
            "text/plain": [
              "Index(['index', 'genres', 'id', 'imdb_id', 'overview', 'poster_path', 'title',\n",
              "       'cast', 'crew', 'director'],\n",
              "      dtype='object')"
            ]
          },
          "metadata": {},
          "execution_count": 104
        }
      ],
      "source": [
        "df.columns"
      ]
    },
    {
      "cell_type": "code",
      "execution_count": null,
      "metadata": {
        "id": "5O_Kl3GS5-iE"
      },
      "outputs": [],
      "source": [
        "df = df[['genres', 'id', 'imdb_id', 'overview', 'poster_path', 'title',\n",
        "       'cast','director']]"
      ]
    },
    {
      "cell_type": "code",
      "execution_count": null,
      "metadata": {
        "colab": {
          "base_uri": "https://localhost:8080/"
        },
        "id": "tL2zeVaD6FgP",
        "outputId": "4c0ad71f-9003-4b8d-9125-3c57cc5132b2"
      },
      "outputs": [
        {
          "output_type": "execute_result",
          "data": {
            "text/plain": [
              "Index(['genres', 'id', 'imdb_id', 'overview', 'poster_path', 'title', 'cast',\n",
              "       'director'],\n",
              "      dtype='object')"
            ]
          },
          "metadata": {},
          "execution_count": 106
        }
      ],
      "source": [
        "df.columns"
      ]
    },
    {
      "cell_type": "code",
      "execution_count": null,
      "metadata": {
        "colab": {
          "base_uri": "https://localhost:8080/"
        },
        "id": "fPXv7fAr6MSJ",
        "outputId": "4b81c0ea-c96f-4774-91bb-315b65e9582f"
      },
      "outputs": [
        {
          "output_type": "execute_result",
          "data": {
            "text/plain": [
              "((20998, 8), RangeIndex(start=0, stop=20998, step=1))"
            ]
          },
          "metadata": {},
          "execution_count": 107
        }
      ],
      "source": [
        "df.shape,df.index"
      ]
    },
    {
      "cell_type": "markdown",
      "metadata": {
        "id": "WKwq0i1p678b"
      },
      "source": [
        ">> ## Taking Everything in one columns"
      ]
    },
    {
      "cell_type": "code",
      "execution_count": null,
      "metadata": {
        "id": "I-9tWIRc7TQ4"
      },
      "outputs": [],
      "source": [
        "def list_of_string_To_string(lst):\n",
        "    ans = \"\"\n",
        "    for i in lst:\n",
        "        ans += i + \" \"\n",
        "    return ans"
      ]
    },
    {
      "cell_type": "code",
      "execution_count": null,
      "metadata": {
        "id": "D27ZUUk07lPs"
      },
      "outputs": [],
      "source": [
        "df['cast'] = df['cast'].apply(list_of_string_To_string)"
      ]
    },
    {
      "cell_type": "code",
      "execution_count": null,
      "metadata": {
        "id": "mtCgU1UQ8B-k"
      },
      "outputs": [],
      "source": [
        "df['genres'] = df['genres'].apply(list_of_string_To_string)"
      ]
    },
    {
      "cell_type": "code",
      "execution_count": null,
      "metadata": {
        "colab": {
          "base_uri": "https://localhost:8080/"
        },
        "id": "K9j2u6N-8oCK",
        "outputId": "6251f8cb-622c-4e2a-bfd2-69e3a54af172"
      },
      "outputs": [
        {
          "output_type": "stream",
          "name": "stdout",
          "text": [
            "0\n"
          ]
        }
      ],
      "source": [
        "count = 0\n",
        "for i in df['overview']:\n",
        "    if i==\"\":count += 1\n",
        "print(count)"
      ]
    },
    {
      "cell_type": "code",
      "execution_count": null,
      "metadata": {
        "id": "b3ekY2Ls6TWZ"
      },
      "outputs": [],
      "source": [
        "all = []\n",
        "for i in range(df.shape[0]):\n",
        "  curr = df.iloc[i]\n",
        "  all.append(curr['genres'] + \" \" + curr['cast'] + \" \" + curr['director'] + \" \" + curr['overview'])"
      ]
    },
    {
      "cell_type": "code",
      "execution_count": null,
      "metadata": {
        "colab": {
          "base_uri": "https://localhost:8080/"
        },
        "id": "SDDEiDe-8zHm",
        "outputId": "a74393f8-8559-45a2-df0d-71a07598262b"
      },
      "outputs": [
        {
          "output_type": "execute_result",
          "data": {
            "text/plain": [
              "Index(['genres', 'id', 'imdb_id', 'overview', 'poster_path', 'title', 'cast',\n",
              "       'director'],\n",
              "      dtype='object')"
            ]
          },
          "metadata": {},
          "execution_count": 113
        }
      ],
      "source": [
        "df.columns"
      ]
    },
    {
      "cell_type": "code",
      "execution_count": null,
      "metadata": {
        "colab": {
          "base_uri": "https://localhost:8080/"
        },
        "id": "B460Irp39R2t",
        "outputId": "ddbb6bef-c5dd-46de-b070-01f540543f5c"
      },
      "outputs": [
        {
          "output_type": "execute_result",
          "data": {
            "text/plain": [
              "((20998, 8), RangeIndex(start=0, stop=20998, step=1))"
            ]
          },
          "metadata": {},
          "execution_count": 114
        }
      ],
      "source": [
        "df.shape, df.index"
      ]
    },
    {
      "cell_type": "code",
      "execution_count": null,
      "metadata": {
        "id": "TUC3w_9F9WZW"
      },
      "outputs": [],
      "source": [
        "df['all'] = all"
      ]
    },
    {
      "cell_type": "code",
      "execution_count": null,
      "metadata": {
        "colab": {
          "base_uri": "https://localhost:8080/",
          "height": 191
        },
        "id": "JV_62Lj79c6Q",
        "outputId": "b18b7e47-c1a5-40ad-c923-ffb4736bf809"
      },
      "outputs": [
        {
          "output_type": "execute_result",
          "data": {
            "text/plain": [
              "                      genres     id    imdb_id  \\\n",
              "0  Adventure Fantasy Family    8844  tt0113497   \n",
              "1            Romance Comedy   15602  tt0113228   \n",
              "\n",
              "                                            overview  \\\n",
              "0  When siblings Judy and Peter discover an encha...   \n",
              "1  A family wedding reignites the ancient feud be...   \n",
              "\n",
              "                        poster_path             title  \\\n",
              "0  /vzmL6fP7aPKNKPRTFnZmiUfciyV.jpg           Jumanji   \n",
              "1  /6ksm1sjKMFLbO7UY2i6G1ju9SML.jpg  Grumpier Old Men   \n",
              "\n",
              "                                                cast       director  \\\n",
              "0  Robin Williams Jonathan Hyde Kirsten Dunst Bra...   Joe Johnston   \n",
              "1  Walter Matthau Jack Lemmon Ann-Margret Sophia ...  Howard Deutch   \n",
              "\n",
              "                                                 all  \n",
              "0  Adventure Fantasy Family  Robin Williams Jonat...  \n",
              "1  Romance Comedy  Walter Matthau Jack Lemmon Ann...  "
            ],
            "text/html": [
              "\n",
              "  <div id=\"df-4dbda988-6b89-40ce-ae55-25a6e7150275\">\n",
              "    <div class=\"colab-df-container\">\n",
              "      <div>\n",
              "<style scoped>\n",
              "    .dataframe tbody tr th:only-of-type {\n",
              "        vertical-align: middle;\n",
              "    }\n",
              "\n",
              "    .dataframe tbody tr th {\n",
              "        vertical-align: top;\n",
              "    }\n",
              "\n",
              "    .dataframe thead th {\n",
              "        text-align: right;\n",
              "    }\n",
              "</style>\n",
              "<table border=\"1\" class=\"dataframe\">\n",
              "  <thead>\n",
              "    <tr style=\"text-align: right;\">\n",
              "      <th></th>\n",
              "      <th>genres</th>\n",
              "      <th>id</th>\n",
              "      <th>imdb_id</th>\n",
              "      <th>overview</th>\n",
              "      <th>poster_path</th>\n",
              "      <th>title</th>\n",
              "      <th>cast</th>\n",
              "      <th>director</th>\n",
              "      <th>all</th>\n",
              "    </tr>\n",
              "  </thead>\n",
              "  <tbody>\n",
              "    <tr>\n",
              "      <th>0</th>\n",
              "      <td>Adventure Fantasy Family</td>\n",
              "      <td>8844</td>\n",
              "      <td>tt0113497</td>\n",
              "      <td>When siblings Judy and Peter discover an encha...</td>\n",
              "      <td>/vzmL6fP7aPKNKPRTFnZmiUfciyV.jpg</td>\n",
              "      <td>Jumanji</td>\n",
              "      <td>Robin Williams Jonathan Hyde Kirsten Dunst Bra...</td>\n",
              "      <td>Joe Johnston</td>\n",
              "      <td>Adventure Fantasy Family  Robin Williams Jonat...</td>\n",
              "    </tr>\n",
              "    <tr>\n",
              "      <th>1</th>\n",
              "      <td>Romance Comedy</td>\n",
              "      <td>15602</td>\n",
              "      <td>tt0113228</td>\n",
              "      <td>A family wedding reignites the ancient feud be...</td>\n",
              "      <td>/6ksm1sjKMFLbO7UY2i6G1ju9SML.jpg</td>\n",
              "      <td>Grumpier Old Men</td>\n",
              "      <td>Walter Matthau Jack Lemmon Ann-Margret Sophia ...</td>\n",
              "      <td>Howard Deutch</td>\n",
              "      <td>Romance Comedy  Walter Matthau Jack Lemmon Ann...</td>\n",
              "    </tr>\n",
              "  </tbody>\n",
              "</table>\n",
              "</div>\n",
              "      <button class=\"colab-df-convert\" onclick=\"convertToInteractive('df-4dbda988-6b89-40ce-ae55-25a6e7150275')\"\n",
              "              title=\"Convert this dataframe to an interactive table.\"\n",
              "              style=\"display:none;\">\n",
              "        \n",
              "  <svg xmlns=\"http://www.w3.org/2000/svg\" height=\"24px\"viewBox=\"0 0 24 24\"\n",
              "       width=\"24px\">\n",
              "    <path d=\"M0 0h24v24H0V0z\" fill=\"none\"/>\n",
              "    <path d=\"M18.56 5.44l.94 2.06.94-2.06 2.06-.94-2.06-.94-.94-2.06-.94 2.06-2.06.94zm-11 1L8.5 8.5l.94-2.06 2.06-.94-2.06-.94L8.5 2.5l-.94 2.06-2.06.94zm10 10l.94 2.06.94-2.06 2.06-.94-2.06-.94-.94-2.06-.94 2.06-2.06.94z\"/><path d=\"M17.41 7.96l-1.37-1.37c-.4-.4-.92-.59-1.43-.59-.52 0-1.04.2-1.43.59L10.3 9.45l-7.72 7.72c-.78.78-.78 2.05 0 2.83L4 21.41c.39.39.9.59 1.41.59.51 0 1.02-.2 1.41-.59l7.78-7.78 2.81-2.81c.8-.78.8-2.07 0-2.86zM5.41 20L4 18.59l7.72-7.72 1.47 1.35L5.41 20z\"/>\n",
              "  </svg>\n",
              "      </button>\n",
              "      \n",
              "  <style>\n",
              "    .colab-df-container {\n",
              "      display:flex;\n",
              "      flex-wrap:wrap;\n",
              "      gap: 12px;\n",
              "    }\n",
              "\n",
              "    .colab-df-convert {\n",
              "      background-color: #E8F0FE;\n",
              "      border: none;\n",
              "      border-radius: 50%;\n",
              "      cursor: pointer;\n",
              "      display: none;\n",
              "      fill: #1967D2;\n",
              "      height: 32px;\n",
              "      padding: 0 0 0 0;\n",
              "      width: 32px;\n",
              "    }\n",
              "\n",
              "    .colab-df-convert:hover {\n",
              "      background-color: #E2EBFA;\n",
              "      box-shadow: 0px 1px 2px rgba(60, 64, 67, 0.3), 0px 1px 3px 1px rgba(60, 64, 67, 0.15);\n",
              "      fill: #174EA6;\n",
              "    }\n",
              "\n",
              "    [theme=dark] .colab-df-convert {\n",
              "      background-color: #3B4455;\n",
              "      fill: #D2E3FC;\n",
              "    }\n",
              "\n",
              "    [theme=dark] .colab-df-convert:hover {\n",
              "      background-color: #434B5C;\n",
              "      box-shadow: 0px 1px 3px 1px rgba(0, 0, 0, 0.15);\n",
              "      filter: drop-shadow(0px 1px 2px rgba(0, 0, 0, 0.3));\n",
              "      fill: #FFFFFF;\n",
              "    }\n",
              "  </style>\n",
              "\n",
              "      <script>\n",
              "        const buttonEl =\n",
              "          document.querySelector('#df-4dbda988-6b89-40ce-ae55-25a6e7150275 button.colab-df-convert');\n",
              "        buttonEl.style.display =\n",
              "          google.colab.kernel.accessAllowed ? 'block' : 'none';\n",
              "\n",
              "        async function convertToInteractive(key) {\n",
              "          const element = document.querySelector('#df-4dbda988-6b89-40ce-ae55-25a6e7150275');\n",
              "          const dataTable =\n",
              "            await google.colab.kernel.invokeFunction('convertToInteractive',\n",
              "                                                     [key], {});\n",
              "          if (!dataTable) return;\n",
              "\n",
              "          const docLinkHtml = 'Like what you see? Visit the ' +\n",
              "            '<a target=\"_blank\" href=https://colab.research.google.com/notebooks/data_table.ipynb>data table notebook</a>'\n",
              "            + ' to learn more about interactive tables.';\n",
              "          element.innerHTML = '';\n",
              "          dataTable['output_type'] = 'display_data';\n",
              "          await google.colab.output.renderOutput(dataTable, element);\n",
              "          const docLink = document.createElement('div');\n",
              "          docLink.innerHTML = docLinkHtml;\n",
              "          element.appendChild(docLink);\n",
              "        }\n",
              "      </script>\n",
              "    </div>\n",
              "  </div>\n",
              "  "
            ]
          },
          "metadata": {},
          "execution_count": 116
        }
      ],
      "source": [
        "df[:2]"
      ]
    },
    {
      "cell_type": "code",
      "execution_count": null,
      "metadata": {
        "colab": {
          "base_uri": "https://localhost:8080/"
        },
        "id": "Dnplq2OB9fw7",
        "outputId": "420c6ea6-f512-406d-e1f6-f72bc6ba5ae6"
      },
      "outputs": [
        {
          "output_type": "execute_result",
          "data": {
            "text/plain": [
              "Index(['genres', 'id', 'imdb_id', 'overview', 'poster_path', 'title', 'cast',\n",
              "       'director', 'all'],\n",
              "      dtype='object')"
            ]
          },
          "metadata": {},
          "execution_count": 117
        }
      ],
      "source": [
        "df.columns"
      ]
    },
    {
      "cell_type": "code",
      "execution_count": null,
      "metadata": {
        "id": "qarTNxtm9wih"
      },
      "outputs": [],
      "source": [
        "df = df[['id', 'imdb_id', 'poster_path', 'title','all']]"
      ]
    },
    {
      "cell_type": "markdown",
      "metadata": {
        "id": "GYBRwOX396M2"
      },
      "source": [
        ">> ## Before Applying : ML Algo"
      ]
    },
    {
      "cell_type": "markdown",
      "metadata": {
        "id": "snd4ZawjBzxT"
      },
      "source": [
        ">>> ### Step 1 : Converting to lowercase"
      ]
    },
    {
      "cell_type": "code",
      "execution_count": null,
      "metadata": {
        "colab": {
          "base_uri": "https://localhost:8080/"
        },
        "id": "k-knGhZm-ta9",
        "outputId": "664a333f-4a31-4258-9cb0-b21e03e8a2e2"
      },
      "outputs": [
        {
          "output_type": "stream",
          "name": "stderr",
          "text": [
            "/usr/local/lib/python3.7/dist-packages/ipykernel_launcher.py:1: SettingWithCopyWarning: \n",
            "A value is trying to be set on a copy of a slice from a DataFrame.\n",
            "Try using .loc[row_indexer,col_indexer] = value instead\n",
            "\n",
            "See the caveats in the documentation: https://pandas.pydata.org/pandas-docs/stable/user_guide/indexing.html#returning-a-view-versus-a-copy\n",
            "  \"\"\"Entry point for launching an IPython kernel.\n"
          ]
        }
      ],
      "source": [
        "df['all'] = df['all'].apply(lambda x:x.lower())"
      ]
    },
    {
      "cell_type": "code",
      "execution_count": null,
      "metadata": {
        "colab": {
          "base_uri": "https://localhost:8080/"
        },
        "id": "I_o2e0mz_Hsy",
        "outputId": "83590746-d34d-48e2-aa5c-fc92ad55a135"
      },
      "outputs": [
        {
          "output_type": "execute_result",
          "data": {
            "text/plain": [
              "0        adventure fantasy family  robin williams jonat...\n",
              "1        romance comedy  walter matthau jack lemmon ann...\n",
              "2        comedy drama romance  whitney houston angela b...\n",
              "3        comedy  steve martin diane keaton martin short...\n",
              "4        action crime drama thriller  al pacino robert ...\n",
              "                               ...                        \n",
              "20993    drama  martijn fischer hadewych minis fedja va...\n",
              "20994    comedy  hilary duff christy carlson romano gar...\n",
              "20995    crime drama thriller  sridevi kapoor sajal ali...\n",
              "20996    drama action romance  patrick bergin uma thurm...\n",
              "20997    drama  angel aquino perry dizon hazel orencio ...\n",
              "Name: all, Length: 20998, dtype: object"
            ]
          },
          "metadata": {},
          "execution_count": 120
        }
      ],
      "source": [
        "df['all']"
      ]
    },
    {
      "cell_type": "markdown",
      "metadata": {
        "id": "8QatN_D8D6Kv"
      },
      "source": [
        ">>> ### Step 2: Removing HTML Tag"
      ]
    },
    {
      "cell_type": "code",
      "execution_count": null,
      "metadata": {
        "id": "p0xMXPmfAufh"
      },
      "outputs": [],
      "source": [
        "def remove_HTML_Tags(text):\n",
        "    pattern = re.compile('<.*?>')\n",
        "    return pattern.sub(r'',text)"
      ]
    },
    {
      "cell_type": "code",
      "execution_count": null,
      "metadata": {
        "id": "qXLOd3LTEDm7"
      },
      "outputs": [],
      "source": [
        "df['all'] = df['all'].apply(remove_HTML_Tags)"
      ]
    },
    {
      "cell_type": "markdown",
      "metadata": {
        "id": "Zw_UsZNyENZ4"
      },
      "source": [
        ">>> ### Step 3: Remove URLs"
      ]
    },
    {
      "cell_type": "code",
      "execution_count": null,
      "metadata": {
        "id": "a9UyDKIQEItb"
      },
      "outputs": [],
      "source": [
        "def remove_urls(text):\n",
        "    pattern = re.compile(r'https?://\\S+|www\\.\\S+')\n",
        "    return pattern.sub(r'',text)"
      ]
    },
    {
      "cell_type": "code",
      "execution_count": null,
      "metadata": {
        "id": "RfJmQOcrEUus"
      },
      "outputs": [],
      "source": [
        "df['all'] = df['all'].apply(remove_urls)"
      ]
    },
    {
      "cell_type": "markdown",
      "metadata": {
        "id": "47jQ8--dEecL"
      },
      "source": [
        ">>> ### Step 4: Remove Punctuations"
      ]
    },
    {
      "cell_type": "code",
      "execution_count": null,
      "metadata": {
        "id": "Qbp-qLvVEXYv"
      },
      "outputs": [],
      "source": [
        "def remove_punctuations(text):\n",
        "    exclude = string.punctuation\n",
        "    for ch in exclude:\n",
        "        text = text.replace(ch,'')\n",
        "    return text"
      ]
    },
    {
      "cell_type": "code",
      "execution_count": null,
      "metadata": {
        "id": "TXJg-cawEj5k"
      },
      "outputs": [],
      "source": [
        "df['all'] = df['all'].apply(remove_punctuations)"
      ]
    },
    {
      "cell_type": "markdown",
      "metadata": {
        "id": "PWNBKkigEwPK"
      },
      "source": [
        ">>> ### Step 5: Remove StopWords"
      ]
    },
    {
      "cell_type": "code",
      "execution_count": null,
      "metadata": {
        "id": "9pjK6AKFFBko"
      },
      "outputs": [],
      "source": [
        "import nltk"
      ]
    },
    {
      "cell_type": "code",
      "execution_count": null,
      "metadata": {
        "colab": {
          "base_uri": "https://localhost:8080/"
        },
        "id": "sl1hwcG1FE23",
        "outputId": "f7b62a9f-3944-479a-b18f-2deceac05465"
      },
      "outputs": [
        {
          "output_type": "stream",
          "name": "stderr",
          "text": [
            "[nltk_data] Downloading package stopwords to /root/nltk_data...\n",
            "[nltk_data]   Unzipping corpora/stopwords.zip.\n"
          ]
        },
        {
          "output_type": "execute_result",
          "data": {
            "text/plain": [
              "True"
            ]
          },
          "metadata": {},
          "execution_count": 128
        }
      ],
      "source": [
        "nltk.download('stopwords')"
      ]
    },
    {
      "cell_type": "code",
      "execution_count": null,
      "metadata": {
        "id": "maKgpFm-Emtp"
      },
      "outputs": [],
      "source": [
        "def remove_stopWords(text):\n",
        "    stopWords = stopwords.words('english')\n",
        "    lst = []\n",
        "    for word in text.split():\n",
        "        if word not in stopWords:\n",
        "            lst.append(word)\n",
        "    return \" \".join(lst)"
      ]
    },
    {
      "cell_type": "code",
      "execution_count": null,
      "metadata": {
        "id": "LTAlQ8FyE5WI"
      },
      "outputs": [],
      "source": [
        "df['all'] = df['all'].apply(remove_stopWords)"
      ]
    },
    {
      "cell_type": "code",
      "execution_count": null,
      "metadata": {
        "colab": {
          "base_uri": "https://localhost:8080/",
          "height": 70
        },
        "id": "NI1kdbnXE7zB",
        "outputId": "eece79fa-e4e9-4a33-bb94-723504df3b56"
      },
      "outputs": [
        {
          "output_type": "execute_result",
          "data": {
            "text/plain": [
              "'adventure fantasy family robin williams jonathan hyde kirsten dunst bradley pierce bonnie hunt bebe neuwirth joe johnston siblings judy peter discover enchanted board game opens door magical world unwittingly invite alan adult whos trapped inside game 26 years living room alans hope freedom finish game proves risky three find running giant rhinoceroses evil monkeys terrifying creatures'"
            ],
            "application/vnd.google.colaboratory.intrinsic+json": {
              "type": "string"
            }
          },
          "metadata": {},
          "execution_count": 131
        }
      ],
      "source": [
        "df['all'][0]"
      ]
    },
    {
      "cell_type": "markdown",
      "metadata": {
        "id": "WnUaCUaWojeo"
      },
      "source": [
        ">> ## Applying ML Algo : Cosine Similarity between all movies"
      ]
    },
    {
      "cell_type": "code",
      "execution_count": null,
      "metadata": {
        "id": "ITLoHh4wFTtS"
      },
      "outputs": [],
      "source": [
        "count = CountVectorizer(analyzer='word',ngram_range=(1, 2),min_df=0, stop_words='english')\n",
        "count_matrix = count.fit_transform(df['all'])"
      ]
    },
    {
      "cell_type": "code",
      "execution_count": null,
      "metadata": {
        "colab": {
          "base_uri": "https://localhost:8080/"
        },
        "id": "AIHJCqY6Y1p7",
        "outputId": "5a585074-f757-4154-f6e9-56df960cf9e0"
      },
      "outputs": [
        {
          "output_type": "execute_result",
          "data": {
            "text/plain": [
              "((20998, 5),\n",
              " Index(['id', 'imdb_id', 'poster_path', 'title', 'all'], dtype='object'))"
            ]
          },
          "metadata": {},
          "execution_count": 133
        }
      ],
      "source": [
        "df.shape,df.columns"
      ]
    },
    {
      "cell_type": "code",
      "execution_count": null,
      "metadata": {
        "id": "H9I5jwxeorAa"
      },
      "outputs": [],
      "source": [
        "cosine_sim = cosine_similarity(count_matrix, count_matrix)"
      ]
    },
    {
      "cell_type": "code",
      "execution_count": null,
      "metadata": {
        "colab": {
          "base_uri": "https://localhost:8080/"
        },
        "id": "3mprtCrxov45",
        "outputId": "fd19fa4f-c478-4424-9497-827fb235316e"
      },
      "outputs": [
        {
          "output_type": "execute_result",
          "data": {
            "text/plain": [
              "(20998, 5)"
            ]
          },
          "metadata": {},
          "execution_count": 135
        }
      ],
      "source": [
        "df.shape"
      ]
    },
    {
      "cell_type": "code",
      "execution_count": null,
      "metadata": {
        "id": "m3LyJgBXVgxS"
      },
      "outputs": [],
      "source": [
        "def get_recommendations(title):\n",
        "    idx = df[df['title']==title].index[0]\n",
        "    sim_scores = list(enumerate(cosine_sim[idx]))\n",
        "    sim_scores = sorted(sim_scores, key=lambda x: x[1], reverse=True)\n",
        "    sim_scores = sim_scores[1:22]\n",
        "    movie_indices = [i[0] for i in sim_scores]\n",
        "    return df.iloc[movie_indices]['id'].values\n",
        "    # return movie_indices"
      ]
    },
    {
      "cell_type": "code",
      "execution_count": null,
      "metadata": {
        "colab": {
          "base_uri": "https://localhost:8080/"
        },
        "id": "Nyc6xBlcb2nO",
        "outputId": "e71b72a9-bf68-43db-f5c4-bae741f38ae2"
      },
      "outputs": [
        {
          "output_type": "execute_result",
          "data": {
            "text/plain": [
              "numpy.ndarray"
            ]
          },
          "metadata": {},
          "execution_count": 137
        }
      ],
      "source": [
        "type(get_recommendations(\"PK\"))"
      ]
    },
    {
      "cell_type": "code",
      "execution_count": null,
      "metadata": {
        "colab": {
          "base_uri": "https://localhost:8080/"
        },
        "id": "Y77rD4Msb5b_",
        "outputId": "2902da37-c2e3-42a3-90c6-beedc88dcd8a"
      },
      "outputs": [
        {
          "output_type": "execute_result",
          "data": {
            "text/plain": [
              "Index(['id', 'imdb_id', 'poster_path', 'title', 'all'], dtype='object')"
            ]
          },
          "metadata": {},
          "execution_count": 138
        }
      ],
      "source": [
        "df.columns"
      ]
    },
    {
      "cell_type": "code",
      "execution_count": null,
      "metadata": {
        "id": "lWVTi__KcFEQ"
      },
      "outputs": [],
      "source": [
        "df = df[['id', 'imdb_id','title']]"
      ]
    },
    {
      "cell_type": "code",
      "execution_count": null,
      "metadata": {
        "colab": {
          "base_uri": "https://localhost:8080/",
          "height": 206
        },
        "id": "HPqUkAMkcZGJ",
        "outputId": "8e40b835-8f8b-4fff-ad3b-888d61d53824"
      },
      "outputs": [
        {
          "output_type": "execute_result",
          "data": {
            "text/plain": [
              "      id    imdb_id                        title\n",
              "0   8844  tt0113497                      Jumanji\n",
              "1  15602  tt0113228             Grumpier Old Men\n",
              "2  31357  tt0114885            Waiting to Exhale\n",
              "3  11862  tt0113041  Father of the Bride Part II\n",
              "4    949  tt0113277                         Heat"
            ],
            "text/html": [
              "\n",
              "  <div id=\"df-b5a3487e-5a8c-4339-b797-5d9fe9921cda\">\n",
              "    <div class=\"colab-df-container\">\n",
              "      <div>\n",
              "<style scoped>\n",
              "    .dataframe tbody tr th:only-of-type {\n",
              "        vertical-align: middle;\n",
              "    }\n",
              "\n",
              "    .dataframe tbody tr th {\n",
              "        vertical-align: top;\n",
              "    }\n",
              "\n",
              "    .dataframe thead th {\n",
              "        text-align: right;\n",
              "    }\n",
              "</style>\n",
              "<table border=\"1\" class=\"dataframe\">\n",
              "  <thead>\n",
              "    <tr style=\"text-align: right;\">\n",
              "      <th></th>\n",
              "      <th>id</th>\n",
              "      <th>imdb_id</th>\n",
              "      <th>title</th>\n",
              "    </tr>\n",
              "  </thead>\n",
              "  <tbody>\n",
              "    <tr>\n",
              "      <th>0</th>\n",
              "      <td>8844</td>\n",
              "      <td>tt0113497</td>\n",
              "      <td>Jumanji</td>\n",
              "    </tr>\n",
              "    <tr>\n",
              "      <th>1</th>\n",
              "      <td>15602</td>\n",
              "      <td>tt0113228</td>\n",
              "      <td>Grumpier Old Men</td>\n",
              "    </tr>\n",
              "    <tr>\n",
              "      <th>2</th>\n",
              "      <td>31357</td>\n",
              "      <td>tt0114885</td>\n",
              "      <td>Waiting to Exhale</td>\n",
              "    </tr>\n",
              "    <tr>\n",
              "      <th>3</th>\n",
              "      <td>11862</td>\n",
              "      <td>tt0113041</td>\n",
              "      <td>Father of the Bride Part II</td>\n",
              "    </tr>\n",
              "    <tr>\n",
              "      <th>4</th>\n",
              "      <td>949</td>\n",
              "      <td>tt0113277</td>\n",
              "      <td>Heat</td>\n",
              "    </tr>\n",
              "  </tbody>\n",
              "</table>\n",
              "</div>\n",
              "      <button class=\"colab-df-convert\" onclick=\"convertToInteractive('df-b5a3487e-5a8c-4339-b797-5d9fe9921cda')\"\n",
              "              title=\"Convert this dataframe to an interactive table.\"\n",
              "              style=\"display:none;\">\n",
              "        \n",
              "  <svg xmlns=\"http://www.w3.org/2000/svg\" height=\"24px\"viewBox=\"0 0 24 24\"\n",
              "       width=\"24px\">\n",
              "    <path d=\"M0 0h24v24H0V0z\" fill=\"none\"/>\n",
              "    <path d=\"M18.56 5.44l.94 2.06.94-2.06 2.06-.94-2.06-.94-.94-2.06-.94 2.06-2.06.94zm-11 1L8.5 8.5l.94-2.06 2.06-.94-2.06-.94L8.5 2.5l-.94 2.06-2.06.94zm10 10l.94 2.06.94-2.06 2.06-.94-2.06-.94-.94-2.06-.94 2.06-2.06.94z\"/><path d=\"M17.41 7.96l-1.37-1.37c-.4-.4-.92-.59-1.43-.59-.52 0-1.04.2-1.43.59L10.3 9.45l-7.72 7.72c-.78.78-.78 2.05 0 2.83L4 21.41c.39.39.9.59 1.41.59.51 0 1.02-.2 1.41-.59l7.78-7.78 2.81-2.81c.8-.78.8-2.07 0-2.86zM5.41 20L4 18.59l7.72-7.72 1.47 1.35L5.41 20z\"/>\n",
              "  </svg>\n",
              "      </button>\n",
              "      \n",
              "  <style>\n",
              "    .colab-df-container {\n",
              "      display:flex;\n",
              "      flex-wrap:wrap;\n",
              "      gap: 12px;\n",
              "    }\n",
              "\n",
              "    .colab-df-convert {\n",
              "      background-color: #E8F0FE;\n",
              "      border: none;\n",
              "      border-radius: 50%;\n",
              "      cursor: pointer;\n",
              "      display: none;\n",
              "      fill: #1967D2;\n",
              "      height: 32px;\n",
              "      padding: 0 0 0 0;\n",
              "      width: 32px;\n",
              "    }\n",
              "\n",
              "    .colab-df-convert:hover {\n",
              "      background-color: #E2EBFA;\n",
              "      box-shadow: 0px 1px 2px rgba(60, 64, 67, 0.3), 0px 1px 3px 1px rgba(60, 64, 67, 0.15);\n",
              "      fill: #174EA6;\n",
              "    }\n",
              "\n",
              "    [theme=dark] .colab-df-convert {\n",
              "      background-color: #3B4455;\n",
              "      fill: #D2E3FC;\n",
              "    }\n",
              "\n",
              "    [theme=dark] .colab-df-convert:hover {\n",
              "      background-color: #434B5C;\n",
              "      box-shadow: 0px 1px 3px 1px rgba(0, 0, 0, 0.15);\n",
              "      filter: drop-shadow(0px 1px 2px rgba(0, 0, 0, 0.3));\n",
              "      fill: #FFFFFF;\n",
              "    }\n",
              "  </style>\n",
              "\n",
              "      <script>\n",
              "        const buttonEl =\n",
              "          document.querySelector('#df-b5a3487e-5a8c-4339-b797-5d9fe9921cda button.colab-df-convert');\n",
              "        buttonEl.style.display =\n",
              "          google.colab.kernel.accessAllowed ? 'block' : 'none';\n",
              "\n",
              "        async function convertToInteractive(key) {\n",
              "          const element = document.querySelector('#df-b5a3487e-5a8c-4339-b797-5d9fe9921cda');\n",
              "          const dataTable =\n",
              "            await google.colab.kernel.invokeFunction('convertToInteractive',\n",
              "                                                     [key], {});\n",
              "          if (!dataTable) return;\n",
              "\n",
              "          const docLinkHtml = 'Like what you see? Visit the ' +\n",
              "            '<a target=\"_blank\" href=https://colab.research.google.com/notebooks/data_table.ipynb>data table notebook</a>'\n",
              "            + ' to learn more about interactive tables.';\n",
              "          element.innerHTML = '';\n",
              "          dataTable['output_type'] = 'display_data';\n",
              "          await google.colab.output.renderOutput(dataTable, element);\n",
              "          const docLink = document.createElement('div');\n",
              "          docLink.innerHTML = docLinkHtml;\n",
              "          element.appendChild(docLink);\n",
              "        }\n",
              "      </script>\n",
              "    </div>\n",
              "  </div>\n",
              "  "
            ]
          },
          "metadata": {},
          "execution_count": 140
        }
      ],
      "source": [
        "df.head()"
      ]
    },
    {
      "cell_type": "code",
      "execution_count": null,
      "metadata": {
        "id": "BNLDfg-ycviT"
      },
      "outputs": [],
      "source": [
        "df['recommendations'] = df['title'].apply(get_recommendations)"
      ]
    },
    {
      "cell_type": "code",
      "execution_count": null,
      "metadata": {
        "id": "t_Rm_50Nc8hT"
      },
      "outputs": [],
      "source": [
        "# df.to_csv(\"mrs.csv\")"
      ]
    },
    {
      "cell_type": "code",
      "execution_count": null,
      "metadata": {
        "colab": {
          "base_uri": "https://localhost:8080/"
        },
        "id": "pvbTiCB42dK7",
        "outputId": "c4d0e853-6924-4232-e8f1-d2eebb3c3353"
      },
      "outputs": [
        {
          "output_type": "execute_result",
          "data": {
            "text/plain": [
              "0        [133977, 14237, 10069, 11849, 82690, 59484, 87...\n",
              "1        [11520, 27472, 18080, 56435, 46732, 76002, 361...\n",
              "2        [21539, 18169, 448449, 41469, 33644, 13969, 49...\n",
              "3        [11846, 14603, 96243, 8388, 10678, 10671, 3375...\n",
              "4        [15542, 9008, 13389, 11524, 6075, 968, 13012, ...\n",
              "                               ...                        \n",
              "20993    [4599, 14883, 1833, 1262, 61934, 14160, 42269,...\n",
              "20994    [14872, 19803, 10118, 8976, 12839, 142499, 340...\n",
              "20995    [17926, 78133, 21811, 41787, 10012, 173541, 30...\n",
              "20996    [8005, 26175, 113175, 42657, 10786, 50329, 105...\n",
              "20997    [219435, 186975, 46773, 418378, 332839, 25051,...\n",
              "Name: recommendations, Length: 20998, dtype: object"
            ]
          },
          "metadata": {},
          "execution_count": 143
        }
      ],
      "source": [
        "df['recommendations']"
      ]
    },
    {
      "cell_type": "code",
      "execution_count": null,
      "metadata": {
        "id": "is19qF1p2rAa"
      },
      "outputs": [],
      "source": [
        "df['recommendations']  = df['recommendations'].apply(lambda x:list(x))"
      ]
    },
    {
      "cell_type": "code",
      "execution_count": null,
      "metadata": {
        "colab": {
          "base_uri": "https://localhost:8080/"
        },
        "id": "O72aG4QS3fnG",
        "outputId": "511dc2bc-a796-4c6d-a889-9e6ff5aca365"
      },
      "outputs": [
        {
          "output_type": "execute_result",
          "data": {
            "text/plain": [
              "[133977,\n",
              " 14237,\n",
              " 10069,\n",
              " 11849,\n",
              " 82690,\n",
              " 59484,\n",
              " 879,\n",
              " 8765,\n",
              " 56931,\n",
              " 68591,\n",
              " 151870,\n",
              " 45169,\n",
              " 4442,\n",
              " 80215,\n",
              " 45572,\n",
              " 60760,\n",
              " 30653,\n",
              " 11884,\n",
              " 11551,\n",
              " 36557,\n",
              " 257344]"
            ]
          },
          "metadata": {},
          "execution_count": 145
        }
      ],
      "source": [
        "df['recommendations'][0]"
      ]
    },
    {
      "cell_type": "code",
      "execution_count": null,
      "metadata": {
        "id": "qljujP4B30Et"
      },
      "outputs": [],
      "source": [
        "df.to_csv(\"mrs2.csv\")"
      ]
    },
    {
      "cell_type": "code",
      "execution_count": null,
      "metadata": {
        "id": "JVHmasW04GpU"
      },
      "outputs": [],
      "source": [
        "df2 = pd.read_csv(\"mrs2.csv\")"
      ]
    },
    {
      "cell_type": "code",
      "execution_count": null,
      "metadata": {
        "colab": {
          "base_uri": "https://localhost:8080/"
        },
        "id": "s9VyywD44L-C",
        "outputId": "00cb6d7f-cb89-47cc-c332-f48f4e91bf0d"
      },
      "outputs": [
        {
          "output_type": "execute_result",
          "data": {
            "text/plain": [
              "[133977,\n",
              " 14237,\n",
              " 10069,\n",
              " 11849,\n",
              " 82690,\n",
              " 59484,\n",
              " 879,\n",
              " 8765,\n",
              " 56931,\n",
              " 68591,\n",
              " 151870,\n",
              " 45169,\n",
              " 4442,\n",
              " 80215,\n",
              " 45572,\n",
              " 60760,\n",
              " 30653,\n",
              " 11884,\n",
              " 11551,\n",
              " 36557,\n",
              " 257344]"
            ]
          },
          "metadata": {},
          "execution_count": 148
        }
      ],
      "source": [
        "ast.literal_eval(df2['recommendations'][0])"
      ]
    },
    {
      "cell_type": "code",
      "execution_count": null,
      "metadata": {
        "colab": {
          "base_uri": "https://localhost:8080/"
        },
        "id": "e8Pwr6Nz4Nep",
        "outputId": "3cf78d72-e475-4353-a9da-f6a68e5e872b"
      },
      "outputs": [
        {
          "output_type": "execute_result",
          "data": {
            "text/plain": [
              "(20998, 4)"
            ]
          },
          "metadata": {},
          "execution_count": 149
        }
      ],
      "source": [
        "df.shape"
      ]
    },
    {
      "cell_type": "code",
      "execution_count": null,
      "metadata": {
        "colab": {
          "base_uri": "https://localhost:8080/"
        },
        "id": "jcIhjdgv5RCG",
        "outputId": "6bbade28-e8ab-4457-d887-3b583148da82"
      },
      "outputs": [
        {
          "output_type": "execute_result",
          "data": {
            "text/plain": [
              "           id    imdb_id                        title  \\\n",
              "0        8844  tt0113497                      Jumanji   \n",
              "1       15602  tt0113228             Grumpier Old Men   \n",
              "2       31357  tt0114885            Waiting to Exhale   \n",
              "3       11862  tt0113041  Father of the Bride Part II   \n",
              "4         949  tt0113277                         Heat   \n",
              "...       ...        ...                          ...   \n",
              "20993  327237  tt3814486       Blood, Sweat and Tears   \n",
              "20994   14008  tt0294425                  Cadet Kelly   \n",
              "20995  404604  tt5690142                          Mom   \n",
              "20996   30840  tt0102797                   Robin Hood   \n",
              "20997  111109  tt2028550          Century of Birthing   \n",
              "\n",
              "                                         recommendations  \n",
              "0      [133977, 14237, 10069, 11849, 82690, 59484, 87...  \n",
              "1      [11520, 27472, 18080, 56435, 46732, 76002, 361...  \n",
              "2      [21539, 18169, 448449, 41469, 33644, 13969, 49...  \n",
              "3      [11846, 14603, 96243, 8388, 10678, 10671, 3375...  \n",
              "4      [15542, 9008, 13389, 11524, 6075, 968, 13012, ...  \n",
              "...                                                  ...  \n",
              "20993  [4599, 14883, 1833, 1262, 61934, 14160, 42269,...  \n",
              "20994  [14872, 19803, 10118, 8976, 12839, 142499, 340...  \n",
              "20995  [17926, 78133, 21811, 41787, 10012, 173541, 30...  \n",
              "20996  [8005, 26175, 113175, 42657, 10786, 50329, 105...  \n",
              "20997  [219435, 186975, 46773, 418378, 332839, 25051,...  \n",
              "\n",
              "[20998 rows x 4 columns]"
            ],
            "text/html": [
              "\n",
              "  <div id=\"df-fdd99cf5-fab6-4689-bae0-a8cd656786c3\">\n",
              "    <div class=\"colab-df-container\">\n",
              "      <div>\n",
              "<style scoped>\n",
              "    .dataframe tbody tr th:only-of-type {\n",
              "        vertical-align: middle;\n",
              "    }\n",
              "\n",
              "    .dataframe tbody tr th {\n",
              "        vertical-align: top;\n",
              "    }\n",
              "\n",
              "    .dataframe thead th {\n",
              "        text-align: right;\n",
              "    }\n",
              "</style>\n",
              "<table border=\"1\" class=\"dataframe\">\n",
              "  <thead>\n",
              "    <tr style=\"text-align: right;\">\n",
              "      <th></th>\n",
              "      <th>id</th>\n",
              "      <th>imdb_id</th>\n",
              "      <th>title</th>\n",
              "      <th>recommendations</th>\n",
              "    </tr>\n",
              "  </thead>\n",
              "  <tbody>\n",
              "    <tr>\n",
              "      <th>0</th>\n",
              "      <td>8844</td>\n",
              "      <td>tt0113497</td>\n",
              "      <td>Jumanji</td>\n",
              "      <td>[133977, 14237, 10069, 11849, 82690, 59484, 87...</td>\n",
              "    </tr>\n",
              "    <tr>\n",
              "      <th>1</th>\n",
              "      <td>15602</td>\n",
              "      <td>tt0113228</td>\n",
              "      <td>Grumpier Old Men</td>\n",
              "      <td>[11520, 27472, 18080, 56435, 46732, 76002, 361...</td>\n",
              "    </tr>\n",
              "    <tr>\n",
              "      <th>2</th>\n",
              "      <td>31357</td>\n",
              "      <td>tt0114885</td>\n",
              "      <td>Waiting to Exhale</td>\n",
              "      <td>[21539, 18169, 448449, 41469, 33644, 13969, 49...</td>\n",
              "    </tr>\n",
              "    <tr>\n",
              "      <th>3</th>\n",
              "      <td>11862</td>\n",
              "      <td>tt0113041</td>\n",
              "      <td>Father of the Bride Part II</td>\n",
              "      <td>[11846, 14603, 96243, 8388, 10678, 10671, 3375...</td>\n",
              "    </tr>\n",
              "    <tr>\n",
              "      <th>4</th>\n",
              "      <td>949</td>\n",
              "      <td>tt0113277</td>\n",
              "      <td>Heat</td>\n",
              "      <td>[15542, 9008, 13389, 11524, 6075, 968, 13012, ...</td>\n",
              "    </tr>\n",
              "    <tr>\n",
              "      <th>...</th>\n",
              "      <td>...</td>\n",
              "      <td>...</td>\n",
              "      <td>...</td>\n",
              "      <td>...</td>\n",
              "    </tr>\n",
              "    <tr>\n",
              "      <th>20993</th>\n",
              "      <td>327237</td>\n",
              "      <td>tt3814486</td>\n",
              "      <td>Blood, Sweat and Tears</td>\n",
              "      <td>[4599, 14883, 1833, 1262, 61934, 14160, 42269,...</td>\n",
              "    </tr>\n",
              "    <tr>\n",
              "      <th>20994</th>\n",
              "      <td>14008</td>\n",
              "      <td>tt0294425</td>\n",
              "      <td>Cadet Kelly</td>\n",
              "      <td>[14872, 19803, 10118, 8976, 12839, 142499, 340...</td>\n",
              "    </tr>\n",
              "    <tr>\n",
              "      <th>20995</th>\n",
              "      <td>404604</td>\n",
              "      <td>tt5690142</td>\n",
              "      <td>Mom</td>\n",
              "      <td>[17926, 78133, 21811, 41787, 10012, 173541, 30...</td>\n",
              "    </tr>\n",
              "    <tr>\n",
              "      <th>20996</th>\n",
              "      <td>30840</td>\n",
              "      <td>tt0102797</td>\n",
              "      <td>Robin Hood</td>\n",
              "      <td>[8005, 26175, 113175, 42657, 10786, 50329, 105...</td>\n",
              "    </tr>\n",
              "    <tr>\n",
              "      <th>20997</th>\n",
              "      <td>111109</td>\n",
              "      <td>tt2028550</td>\n",
              "      <td>Century of Birthing</td>\n",
              "      <td>[219435, 186975, 46773, 418378, 332839, 25051,...</td>\n",
              "    </tr>\n",
              "  </tbody>\n",
              "</table>\n",
              "<p>20998 rows × 4 columns</p>\n",
              "</div>\n",
              "      <button class=\"colab-df-convert\" onclick=\"convertToInteractive('df-fdd99cf5-fab6-4689-bae0-a8cd656786c3')\"\n",
              "              title=\"Convert this dataframe to an interactive table.\"\n",
              "              style=\"display:none;\">\n",
              "        \n",
              "  <svg xmlns=\"http://www.w3.org/2000/svg\" height=\"24px\"viewBox=\"0 0 24 24\"\n",
              "       width=\"24px\">\n",
              "    <path d=\"M0 0h24v24H0V0z\" fill=\"none\"/>\n",
              "    <path d=\"M18.56 5.44l.94 2.06.94-2.06 2.06-.94-2.06-.94-.94-2.06-.94 2.06-2.06.94zm-11 1L8.5 8.5l.94-2.06 2.06-.94-2.06-.94L8.5 2.5l-.94 2.06-2.06.94zm10 10l.94 2.06.94-2.06 2.06-.94-2.06-.94-.94-2.06-.94 2.06-2.06.94z\"/><path d=\"M17.41 7.96l-1.37-1.37c-.4-.4-.92-.59-1.43-.59-.52 0-1.04.2-1.43.59L10.3 9.45l-7.72 7.72c-.78.78-.78 2.05 0 2.83L4 21.41c.39.39.9.59 1.41.59.51 0 1.02-.2 1.41-.59l7.78-7.78 2.81-2.81c.8-.78.8-2.07 0-2.86zM5.41 20L4 18.59l7.72-7.72 1.47 1.35L5.41 20z\"/>\n",
              "  </svg>\n",
              "      </button>\n",
              "      \n",
              "  <style>\n",
              "    .colab-df-container {\n",
              "      display:flex;\n",
              "      flex-wrap:wrap;\n",
              "      gap: 12px;\n",
              "    }\n",
              "\n",
              "    .colab-df-convert {\n",
              "      background-color: #E8F0FE;\n",
              "      border: none;\n",
              "      border-radius: 50%;\n",
              "      cursor: pointer;\n",
              "      display: none;\n",
              "      fill: #1967D2;\n",
              "      height: 32px;\n",
              "      padding: 0 0 0 0;\n",
              "      width: 32px;\n",
              "    }\n",
              "\n",
              "    .colab-df-convert:hover {\n",
              "      background-color: #E2EBFA;\n",
              "      box-shadow: 0px 1px 2px rgba(60, 64, 67, 0.3), 0px 1px 3px 1px rgba(60, 64, 67, 0.15);\n",
              "      fill: #174EA6;\n",
              "    }\n",
              "\n",
              "    [theme=dark] .colab-df-convert {\n",
              "      background-color: #3B4455;\n",
              "      fill: #D2E3FC;\n",
              "    }\n",
              "\n",
              "    [theme=dark] .colab-df-convert:hover {\n",
              "      background-color: #434B5C;\n",
              "      box-shadow: 0px 1px 3px 1px rgba(0, 0, 0, 0.15);\n",
              "      filter: drop-shadow(0px 1px 2px rgba(0, 0, 0, 0.3));\n",
              "      fill: #FFFFFF;\n",
              "    }\n",
              "  </style>\n",
              "\n",
              "      <script>\n",
              "        const buttonEl =\n",
              "          document.querySelector('#df-fdd99cf5-fab6-4689-bae0-a8cd656786c3 button.colab-df-convert');\n",
              "        buttonEl.style.display =\n",
              "          google.colab.kernel.accessAllowed ? 'block' : 'none';\n",
              "\n",
              "        async function convertToInteractive(key) {\n",
              "          const element = document.querySelector('#df-fdd99cf5-fab6-4689-bae0-a8cd656786c3');\n",
              "          const dataTable =\n",
              "            await google.colab.kernel.invokeFunction('convertToInteractive',\n",
              "                                                     [key], {});\n",
              "          if (!dataTable) return;\n",
              "\n",
              "          const docLinkHtml = 'Like what you see? Visit the ' +\n",
              "            '<a target=\"_blank\" href=https://colab.research.google.com/notebooks/data_table.ipynb>data table notebook</a>'\n",
              "            + ' to learn more about interactive tables.';\n",
              "          element.innerHTML = '';\n",
              "          dataTable['output_type'] = 'display_data';\n",
              "          await google.colab.output.renderOutput(dataTable, element);\n",
              "          const docLink = document.createElement('div');\n",
              "          docLink.innerHTML = docLinkHtml;\n",
              "          element.appendChild(docLink);\n",
              "        }\n",
              "      </script>\n",
              "    </div>\n",
              "  </div>\n",
              "  "
            ]
          },
          "metadata": {},
          "execution_count": 150
        }
      ],
      "source": [
        "df"
      ]
    },
    {
      "cell_type": "code",
      "execution_count": null,
      "metadata": {
        "id": "65rcDqet5Wyg"
      },
      "outputs": [],
      "source": [
        "df.to_csv(\"mrs2.csv\")"
      ]
    },
    {
      "cell_type": "code",
      "execution_count": null,
      "metadata": {
        "id": "iVChSRhl5c2g"
      },
      "outputs": [],
      "source": []
    }
  ],
  "metadata": {
    "colab": {
      "provenance": []
    },
    "kernelspec": {
      "display_name": "Python 3",
      "name": "python3"
    },
    "language_info": {
      "name": "python"
    }
  },
  "nbformat": 4,
  "nbformat_minor": 0
}